{
  "cells": [
    {
      "cell_type": "markdown",
      "metadata": {
        "id": "view-in-github",
        "colab_type": "text"
      },
      "source": [
        "<a href=\"https://colab.research.google.com/github/IsaacFigNewton/NoSKE-Pipeline/blob/hypergraphx-integration/Hypergraphx_Tests.ipynb\" target=\"_parent\"><img src=\"https://colab.research.google.com/assets/colab-badge.svg\" alt=\"Open In Colab\"/></a>"
      ]
    },
    {
      "cell_type": "code",
      "source": [
        "!pip install hypergraphx"
      ],
      "metadata": {
        "colab": {
          "base_uri": "https://localhost:8080/"
        },
        "id": "rLvt0RhvJUth",
        "outputId": "eabb3756-fbe2-484a-862d-070403ba7b7f"
      },
      "execution_count": 1,
      "outputs": [
        {
          "output_type": "stream",
          "name": "stdout",
          "text": [
            "Collecting hypergraphx\n",
            "  Downloading hypergraphx-1.7.8-py3-none-any.whl.metadata (18 kB)\n",
            "Requirement already satisfied: numpy in /usr/local/lib/python3.11/dist-packages (from hypergraphx) (2.0.2)\n",
            "Requirement already satisfied: scipy in /usr/local/lib/python3.11/dist-packages (from hypergraphx) (1.15.3)\n",
            "Requirement already satisfied: networkx in /usr/local/lib/python3.11/dist-packages (from hypergraphx) (3.5)\n",
            "Requirement already satisfied: pandas in /usr/local/lib/python3.11/dist-packages (from hypergraphx) (2.2.2)\n",
            "Requirement already satisfied: scikit-learn in /usr/local/lib/python3.11/dist-packages (from hypergraphx) (1.6.1)\n",
            "Requirement already satisfied: pytest in /usr/local/lib/python3.11/dist-packages (from hypergraphx) (8.3.5)\n",
            "Requirement already satisfied: matplotlib in /usr/local/lib/python3.11/dist-packages (from hypergraphx) (3.10.0)\n",
            "Requirement already satisfied: seaborn in /usr/local/lib/python3.11/dist-packages (from hypergraphx) (0.13.2)\n",
            "Requirement already satisfied: contourpy>=1.0.1 in /usr/local/lib/python3.11/dist-packages (from matplotlib->hypergraphx) (1.3.2)\n",
            "Requirement already satisfied: cycler>=0.10 in /usr/local/lib/python3.11/dist-packages (from matplotlib->hypergraphx) (0.12.1)\n",
            "Requirement already satisfied: fonttools>=4.22.0 in /usr/local/lib/python3.11/dist-packages (from matplotlib->hypergraphx) (4.58.5)\n",
            "Requirement already satisfied: kiwisolver>=1.3.1 in /usr/local/lib/python3.11/dist-packages (from matplotlib->hypergraphx) (1.4.8)\n",
            "Requirement already satisfied: packaging>=20.0 in /usr/local/lib/python3.11/dist-packages (from matplotlib->hypergraphx) (25.0)\n",
            "Requirement already satisfied: pillow>=8 in /usr/local/lib/python3.11/dist-packages (from matplotlib->hypergraphx) (11.2.1)\n",
            "Requirement already satisfied: pyparsing>=2.3.1 in /usr/local/lib/python3.11/dist-packages (from matplotlib->hypergraphx) (3.2.3)\n",
            "Requirement already satisfied: python-dateutil>=2.7 in /usr/local/lib/python3.11/dist-packages (from matplotlib->hypergraphx) (2.9.0.post0)\n",
            "Requirement already satisfied: pytz>=2020.1 in /usr/local/lib/python3.11/dist-packages (from pandas->hypergraphx) (2025.2)\n",
            "Requirement already satisfied: tzdata>=2022.7 in /usr/local/lib/python3.11/dist-packages (from pandas->hypergraphx) (2025.2)\n",
            "Requirement already satisfied: iniconfig in /usr/local/lib/python3.11/dist-packages (from pytest->hypergraphx) (2.1.0)\n",
            "Requirement already satisfied: pluggy<2,>=1.5 in /usr/local/lib/python3.11/dist-packages (from pytest->hypergraphx) (1.6.0)\n",
            "Requirement already satisfied: joblib>=1.2.0 in /usr/local/lib/python3.11/dist-packages (from scikit-learn->hypergraphx) (1.5.1)\n",
            "Requirement already satisfied: threadpoolctl>=3.1.0 in /usr/local/lib/python3.11/dist-packages (from scikit-learn->hypergraphx) (3.6.0)\n",
            "Requirement already satisfied: six>=1.5 in /usr/local/lib/python3.11/dist-packages (from python-dateutil>=2.7->matplotlib->hypergraphx) (1.17.0)\n",
            "Downloading hypergraphx-1.7.8-py3-none-any.whl (126 kB)\n",
            "\u001b[2K   \u001b[90m━━━━━━━━━━━━━━━━━━━━━━━━━━━━━━━━━━━━━━━━\u001b[0m \u001b[32m126.2/126.2 kB\u001b[0m \u001b[31m4.0 MB/s\u001b[0m eta \u001b[36m0:00:00\u001b[0m\n",
            "\u001b[?25hInstalling collected packages: hypergraphx\n",
            "Successfully installed hypergraphx-1.7.8\n"
          ]
        }
      ]
    },
    {
      "cell_type": "code",
      "execution_count": 2,
      "metadata": {
        "id": "uVlSShCVJQVb"
      },
      "outputs": [],
      "source": [
        "from hypergraphx.generation.scale_free import scale_free_hypergraph\n",
        "from hypergraphx.linalg import *\n",
        "from hypergraphx.representations.projections import bipartite_projection, clique_projection\n",
        "from hypergraphx.generation.random import *\n",
        "from hypergraphx.readwrite.save import save_hypergraph\n",
        "from hypergraphx.readwrite.load import load_hypergraph\n",
        "from hypergraphx.viz.draw_hypergraph import draw_hypergraph"
      ]
    },
    {
      "cell_type": "code",
      "execution_count": 41,
      "metadata": {
        "colab": {
          "base_uri": "https://localhost:8080/"
        },
        "id": "1tM3EYFwJQVd",
        "outputId": "1fee6333-b820-4295-8fb4-c1ad07327734"
      },
      "outputs": [
        {
          "output_type": "stream",
          "name": "stdout",
          "text": [
            "Hypergraph with 8 nodes and 0 edges.\n",
            "Distribution of hyperedge sizes: {}\n"
          ]
        }
      ],
      "source": [
        "H = Hypergraph(\n",
        "    weighted=True,)\n",
        "H.add_nodes(\n",
        "    [i for i in range(8)],\n",
        "    metadata=[\n",
        "        {\"name\": \"a\"},\n",
        "        {\"name\": \"b\"},\n",
        "        {\"name\": \"c\"},\n",
        "        {\"name\": \"d\"},\n",
        "        {\"name\": \"e\"},\n",
        "        {\"name\": \"f\"},\n",
        "        {\"name\": \"g\"},\n",
        "        {\"name\": \"h\"},\n",
        "    ]\n",
        ")\n",
        "print(H)"
      ]
    },
    {
      "cell_type": "code",
      "execution_count": 42,
      "metadata": {
        "id": "1F7wETkQJQVe"
      },
      "outputs": [],
      "source": [
        "H.add_edges(\n",
        "    [(1, 3), (1, 4), (1, 2)],\n",
        "    weights=[1, 2, 3]\n",
        ")\n",
        "H.add_edges(\n",
        "    [(5, 6, 7, 8), (1, 2, 3)],\n",
        "    weights=[4, 5],\n",
        "    metadata=[\n",
        "        {\"name\": \"people who listen to poopcore\"},\n",
        "        {\"name\": \"people who listen to bob coecke\"}\n",
        "    ]\n",
        ")"
      ]
    },
    {
      "cell_type": "code",
      "source": [
        "H.get_nodes(metadata=True)"
      ],
      "metadata": {
        "colab": {
          "base_uri": "https://localhost:8080/"
        },
        "id": "KfoIutbLrq2v",
        "outputId": "49b1a7bb-d087-42a1-f8c5-945d70c0cb23"
      },
      "execution_count": 45,
      "outputs": [
        {
          "output_type": "execute_result",
          "data": {
            "text/plain": [
              "{0: {'name': 'a'},\n",
              " 1: {'name': 'b'},\n",
              " 2: {'name': 'c'},\n",
              " 3: {'name': 'd'},\n",
              " 4: {'name': 'e'},\n",
              " 5: {'name': 'f'},\n",
              " 6: {'name': 'g'},\n",
              " 7: {'name': 'h'},\n",
              " 8: {}}"
            ]
          },
          "metadata": {},
          "execution_count": 45
        }
      ]
    },
    {
      "cell_type": "code",
      "execution_count": 46,
      "metadata": {
        "colab": {
          "base_uri": "https://localhost:8080/"
        },
        "id": "bGd-0I1GJQVe",
        "outputId": "de33f47a-e0e9-4d02-e219-6c74520d8cd2"
      },
      "outputs": [
        {
          "output_type": "execute_result",
          "data": {
            "text/plain": [
              "{(1, 3): {},\n",
              " (1, 4): {},\n",
              " (1, 2): {},\n",
              " (5, 6, 7, 8): {'name': 'people who listen to poopcore'},\n",
              " (1, 2, 3): {'name': 'people who listen to bob coecke'}}"
            ]
          },
          "metadata": {},
          "execution_count": 46
        }
      ],
      "source": [
        "H.get_edges(metadata=True)"
      ]
    },
    {
      "cell_type": "code",
      "execution_count": 47,
      "metadata": {
        "colab": {
          "base_uri": "https://localhost:8080/"
        },
        "id": "l_NLuEJNJQVe",
        "outputId": "36e02cbe-4763-45d0-b4bb-0a06524fa177"
      },
      "outputs": [
        {
          "output_type": "execute_result",
          "data": {
            "text/plain": [
              "[1, 2, 3, 4, 5]"
            ]
          },
          "metadata": {},
          "execution_count": 47
        }
      ],
      "source": [
        "H.get_weights()"
      ]
    },
    {
      "cell_type": "code",
      "execution_count": 48,
      "metadata": {
        "colab": {
          "base_uri": "https://localhost:8080/"
        },
        "id": "PEA11vVoJQVe",
        "outputId": "03923a06-86fa-44f2-8ed3-9df1aced0a38"
      },
      "outputs": [
        {
          "output_type": "stream",
          "name": "stdout",
          "text": [
            "((1, 3), 0)\n",
            "((1, 4), 1)\n",
            "((1, 2), 2)\n",
            "((5, 6, 7, 8), 3)\n",
            "((1, 2, 3), 4)\n"
          ]
        }
      ],
      "source": [
        "for edge in H:\n",
        "    print(edge)"
      ]
    },
    {
      "cell_type": "code",
      "execution_count": 49,
      "metadata": {
        "colab": {
          "base_uri": "https://localhost:8080/"
        },
        "id": "INCXmJg-JQVe",
        "outputId": "1b164d17-4179-444f-c02d-9949119e8bd6"
      },
      "outputs": [
        {
          "output_type": "execute_result",
          "data": {
            "text/plain": [
              "5"
            ]
          },
          "metadata": {},
          "execution_count": 49
        }
      ],
      "source": [
        "H.get_weight((1, 2, 3))"
      ]
    },
    {
      "cell_type": "code",
      "execution_count": 50,
      "metadata": {
        "colab": {
          "base_uri": "https://localhost:8080/"
        },
        "id": "w9Ik4mTXJQVf",
        "outputId": "62321d31-d178-4403-8fb7-a2524c6c948b"
      },
      "outputs": [
        {
          "output_type": "execute_result",
          "data": {
            "text/plain": [
              "5"
            ]
          },
          "metadata": {},
          "execution_count": 50
        }
      ],
      "source": [
        "H.get_weight((2, 3, 1))"
      ]
    },
    {
      "cell_type": "code",
      "execution_count": 51,
      "metadata": {
        "colab": {
          "base_uri": "https://localhost:8080/"
        },
        "id": "6EsCDqnoJQVf",
        "outputId": "9059170e-5711-4a5e-deba-610f562d521f"
      },
      "outputs": [
        {
          "output_type": "execute_result",
          "data": {
            "text/plain": [
              "False"
            ]
          },
          "metadata": {},
          "execution_count": 51
        }
      ],
      "source": [
        "H.is_connected()"
      ]
    },
    {
      "cell_type": "code",
      "execution_count": 52,
      "metadata": {
        "colab": {
          "base_uri": "https://localhost:8080/",
          "height": 576
        },
        "id": "6-dDhHX4JQVf",
        "outputId": "cd96ac8f-5fac-423b-b86b-3d5199b8b901"
      },
      "outputs": [
        {
          "output_type": "display_data",
          "data": {
            "text/plain": [
              "<Figure size 1200x700 with 1 Axes>"
            ],
            "image/png": "[encoded data removed]"
          },
          "metadata": {}
        }
      ],
      "source": [
        "draw_hypergraph(H, with_node_labels=True)"
      ]
    },
    {
      "cell_type": "code",
      "execution_count": 54,
      "metadata": {
        "id": "fY7GRMN3JQVf"
      },
      "outputs": [],
      "source": [
        "H.add_edge((1,5), weight=10, metadata={\"name\": \"me\"})"
      ]
    },
    {
      "cell_type": "code",
      "execution_count": 55,
      "metadata": {
        "colab": {
          "base_uri": "https://localhost:8080/",
          "height": 577
        },
        "id": "YwDM-tZjJQVf",
        "outputId": "8182be5a-2428-4bd6-d6eb-54d9e88d23a9"
      },
      "outputs": [
        {
          "output_type": "display_data",
          "data": {
            "text/plain": [
              "<Figure size 1200x700 with 1 Axes>"
            ],
            "image/png": "[encoded data removed]"
          },
          "metadata": {}
        }
      ],
      "source": [
        "draw_hypergraph(H, with_node_labels=True)"
      ]
    },
    {
      "cell_type": "code",
      "execution_count": 14,
      "metadata": {
        "colab": {
          "base_uri": "https://localhost:8080/"
        },
        "id": "QC-7SI8GJQVf",
        "outputId": "6640ad57-734b-4afc-ff35-f3a176a564df"
      },
      "outputs": [
        {
          "output_type": "execute_result",
          "data": {
            "text/plain": [
              "True"
            ]
          },
          "metadata": {},
          "execution_count": 14
        }
      ],
      "source": [
        "H.is_connected()"
      ]
    },
    {
      "cell_type": "code",
      "execution_count": 15,
      "metadata": {
        "colab": {
          "base_uri": "https://localhost:8080/"
        },
        "id": "o0Rz6o4cJQVf",
        "outputId": "6fa8d3a3-3b6e-406d-ff19-5d26442fb091"
      },
      "outputs": [
        {
          "output_type": "execute_result",
          "data": {
            "text/plain": [
              "False"
            ]
          },
          "metadata": {},
          "execution_count": 15
        }
      ],
      "source": [
        "H.is_uniform()"
      ]
    },
    {
      "cell_type": "code",
      "execution_count": 16,
      "metadata": {
        "colab": {
          "base_uri": "https://localhost:8080/"
        },
        "id": "uHc6YEYGJQVf",
        "outputId": "22ff6ece-535c-4eed-8f4e-f7725d59e3d4"
      },
      "outputs": [
        {
          "output_type": "stream",
          "name": "stdout",
          "text": [
            "True\n"
          ]
        }
      ],
      "source": [
        "print(H.check_edge((5, 6, 7, 8)))\n",
        "H.remove_edge((5, 6, 7, 8))"
      ]
    },
    {
      "cell_type": "code",
      "execution_count": 17,
      "metadata": {
        "colab": {
          "base_uri": "https://localhost:8080/"
        },
        "id": "AwLIoXmnJQVf",
        "outputId": "0b263718-5c34-4b7d-8369-c7736e6405b7"
      },
      "outputs": [
        {
          "output_type": "stream",
          "name": "stdout",
          "text": [
            "[(1, 3), (1, 4), (1, 2), (1, 2, 3), (1, 5)]\n",
            "[1, 2, 3, 5, 10]\n"
          ]
        }
      ],
      "source": [
        "print(H.get_edges())\n",
        "print(H.get_weights())\n",
        "H.remove_edges([(1,2,3), (1,3)])"
      ]
    },
    {
      "cell_type": "code",
      "execution_count": 18,
      "metadata": {
        "colab": {
          "base_uri": "https://localhost:8080/"
        },
        "id": "PLbJQNnIJQVf",
        "outputId": "0c69dcea-fb31-4410-c959-211b11ebe674"
      },
      "outputs": [
        {
          "output_type": "stream",
          "name": "stdout",
          "text": [
            "[(1, 4), (1, 2), (1, 5)]\n",
            "True\n"
          ]
        }
      ],
      "source": [
        "print(H.get_edges())\n",
        "print(H.is_uniform())"
      ]
    },
    {
      "cell_type": "code",
      "execution_count": 19,
      "metadata": {
        "colab": {
          "base_uri": "https://localhost:8080/"
        },
        "id": "aJzqJ49eJQVg",
        "outputId": "7f4eede3-fe1f-4790-d2c3-f7c654f92702"
      },
      "outputs": [
        {
          "output_type": "execute_result",
          "data": {
            "text/plain": [
              "[(1, 4), (1, 2), (1, 5)]"
            ]
          },
          "metadata": {},
          "execution_count": 19
        }
      ],
      "source": [
        "H.get_edges()"
      ]
    },
    {
      "cell_type": "code",
      "execution_count": 20,
      "metadata": {
        "colab": {
          "base_uri": "https://localhost:8080/",
          "height": 141
        },
        "id": "-BjN2yJ9JQVg",
        "outputId": "5554d015-eef5-41c2-e8a9-b8b2cc2ff88c"
      },
      "outputs": [
        {
          "output_type": "error",
          "ename": "AttributeError",
          "evalue": "'Hypergraph' object has no attribute 'add_attr_to_node_metadata'",
          "traceback": [
            "\u001b[0;31m---------------------------------------------------------------------------\u001b[0m",
            "\u001b[0;31mAttributeError\u001b[0m                            Traceback (most recent call last)",
            "\u001b[0;32m/tmp/ipython-input-20-1793435127.py\u001b[0m in \u001b[0;36m<cell line: 0>\u001b[0;34m()\u001b[0m\n\u001b[0;32m----> 1\u001b[0;31m \u001b[0mH\u001b[0m\u001b[0;34m.\u001b[0m\u001b[0madd_attr_to_node_metadata\u001b[0m\u001b[0;34m(\u001b[0m\u001b[0;36m1\u001b[0m\u001b[0;34m,\u001b[0m \u001b[0;34m'role'\u001b[0m\u001b[0;34m,\u001b[0m \u001b[0;34m'student'\u001b[0m\u001b[0;34m)\u001b[0m\u001b[0;34m\u001b[0m\u001b[0;34m\u001b[0m\u001b[0m\n\u001b[0m",
            "\u001b[0;31mAttributeError\u001b[0m: 'Hypergraph' object has no attribute 'add_attr_to_node_metadata'"
          ]
        }
      ],
      "source": [
        "H.add_attr_to_node_metadata(1, 'role', 'student')"
      ]
    },
    {
      "cell_type": "code",
      "execution_count": null,
      "metadata": {
        "id": "jwr_DS8aJQVg"
      },
      "outputs": [],
      "source": [
        "H.get_nodes(metadata=True)"
      ]
    },
    {
      "cell_type": "code",
      "execution_count": null,
      "metadata": {
        "id": "GPIj9oNGJQVg"
      },
      "outputs": [],
      "source": [
        "H.remove_node(1)"
      ]
    },
    {
      "cell_type": "code",
      "execution_count": null,
      "metadata": {
        "id": "B0ogP5QuJQVg"
      },
      "outputs": [],
      "source": [
        "H.get_nodes(metadata=True)"
      ]
    },
    {
      "cell_type": "code",
      "source": [],
      "metadata": {
        "id": "thn8UPYGKtNZ"
      },
      "execution_count": null,
      "outputs": []
    }
  ],
  "metadata": {
    "kernelspec": {
      "display_name": "hgx-installation",
      "language": "python",
      "name": "python3"
    },
    "language_info": {
      "codemirror_mode": {
        "name": "ipython",
        "version": 3
      },
      "file_extension": ".py",
      "mimetype": "text/x-python",
      "name": "python",
      "nbconvert_exporter": "python",
      "pygments_lexer": "ipython3",
      "version": "3.9.17"
    },
    "orig_nbformat": 4,
    "colab": {
      "provenance": [],
      "include_colab_link": true
    }
  },
  "nbformat": 4,
  "nbformat_minor": 0
}