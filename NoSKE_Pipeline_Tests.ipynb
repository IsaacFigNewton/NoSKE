{
  "nbformat": 4,
  "nbformat_minor": 0,
  "metadata": {
    "colab": {
      "provenance": [],
      "collapsed_sections": [
        "UTsDS_ydl647",
        "ZaOc_gTsBvPm",
        "K0J8F6qJz3hn",
        "7vcBocfSmAb5",
        "j2BPHDY09tdQ"
      ],
      "authorship_tag": "ABX9TyPxzlNGhElnrttRPO5uci7K",
      "include_colab_link": true
    },
    "kernelspec": {
      "name": "python3",
      "display_name": "Python 3"
    },
    "language_info": {
      "name": "python"
    }
  },
  "cells": [
    {
      "cell_type": "markdown",
      "metadata": {
        "id": "view-in-github",
        "colab_type": "text"
      },
      "source": [
        "<a href=\"https://colab.research.google.com/github/IsaacFigNewton/NoSKE-Pipeline/blob/main/NoSKE_Pipeline_Tests.ipynb\" target=\"_parent\"><img src=\"https://colab.research.google.com/assets/colab-badge.svg\" alt=\"Open In Colab\"/></a>"
      ]
    },
    {
      "cell_type": "markdown",
      "source": [
        "# Get, import dependencies"
      ],
      "metadata": {
        "id": "UTsDS_ydl647"
      }
    },
    {
      "cell_type": "code",
      "execution_count": 1,
      "metadata": {
        "id": "tmhtsh3Vdxqd"
      },
      "outputs": [],
      "source": [
        "import spacy\n",
        "import networkx as nx\n",
        "import matplotlib.pyplot as plt\n",
        "import json"
      ]
    },
    {
      "cell_type": "code",
      "source": [
        "!python -m spacy download en_core_web_lg"
      ],
      "metadata": {
        "colab": {
          "base_uri": "https://localhost:8080/"
        },
        "id": "UAjC4MyJd14o",
        "outputId": "4b4022e0-f8c4-4b5f-965b-dd33238ff256"
      },
      "execution_count": 2,
      "outputs": [
        {
          "output_type": "stream",
          "name": "stdout",
          "text": [
            "Collecting en-core-web-lg==3.8.0\n",
            "  Downloading https://github.com/explosion/spacy-models/releases/download/en_core_web_lg-3.8.0/en_core_web_lg-3.8.0-py3-none-any.whl (400.7 MB)\n",
            "\u001b[2K     \u001b[90m━━━━━━━━━━━━━━━━━━━━━━━━━━━━━━━━━━━━━━━\u001b[0m \u001b[32m400.7/400.7 MB\u001b[0m \u001b[31m3.1 MB/s\u001b[0m eta \u001b[36m0:00:00\u001b[0m\n",
            "\u001b[?25hInstalling collected packages: en-core-web-lg\n",
            "Successfully installed en-core-web-lg-3.8.0\n",
            "\u001b[38;5;2m✔ Download and installation successful\u001b[0m\n",
            "You can now load the package via spacy.load('en_core_web_lg')\n",
            "\u001b[38;5;3m⚠ Restart to reload dependencies\u001b[0m\n",
            "If you are in a Jupyter or Colab notebook, you may need to restart Python in\n",
            "order to load all the package's dependencies. You can do this by selecting the\n",
            "'Restart kernel' or 'Restart runtime' option.\n"
          ]
        }
      ]
    },
    {
      "cell_type": "markdown",
      "source": [
        "# Config"
      ],
      "metadata": {
        "id": "vAebN6vUl1ua"
      }
    },
    {
      "cell_type": "code",
      "source": [
        "nlp = spacy.load('en_core_web_lg')\n",
        "text = \"The quick brown fox jumps over the lazy dog.\"\n",
        "doc = nlp(text)"
      ],
      "metadata": {
        "id": "4K4Sp6fdeEga"
      },
      "execution_count": 3,
      "outputs": []
    },
    {
      "cell_type": "markdown",
      "source": [
        "# Helpers"
      ],
      "metadata": {
        "id": "i5c1eqCDzRUs"
      }
    },
    {
      "cell_type": "markdown",
      "source": [
        "## Dependency KG Construction"
      ],
      "metadata": {
        "id": "0tXxJjB-zzbs"
      }
    },
    {
      "cell_type": "code",
      "source": [
        "def get_token_tags(t):\n",
        "  tags = dict()\n",
        "\n",
        "  # get token case\n",
        "  if t.is_lower:\n",
        "    tags[\"case\"] = \"lower\"\n",
        "  elif t.is_upper:\n",
        "    tags[\"case\"] = \"upper\"\n",
        "  elif t.is_title:\n",
        "    tags[\"case\"] = \"title\"\n",
        "\n",
        "  # get token type\n",
        "  if t.is_currency:\n",
        "    tags[\"type\"] = \"currency\"\n",
        "  elif t.like_url:\n",
        "    tags[\"type\"] = \"url\"\n",
        "  elif t.like_email:\n",
        "    tags[\"type\"] = \"email\"\n",
        "  elif t.is_alpha:\n",
        "    tags[\"type\"] = \"word\"\n",
        "  elif t.like_num:\n",
        "    tags[\"type\"] = \"num\"\n",
        "  elif t.is_space:\n",
        "    tags[\"type\"] = \"whitespace\"\n",
        "  elif t.is_punct:\n",
        "    tags[\"type\"] = \"punct\"\n",
        "    if t.is_left_punct:\n",
        "      tags[\"subtype_features\"] = [\"left\"]\n",
        "    elif t.is_right_punct:\n",
        "      tags[\"subtype_features\"] = [\"right\"]\n",
        "    if t.is_bracket:\n",
        "      tags[\"subtype_features\"].append(\"bracket\")\n",
        "    elif t.is_quote:\n",
        "      tags[\"subtype_features\"].append(\"quote\")\n",
        "\n",
        "  # get morphologic analysis as lists of tags\n",
        "  morph_dict = t.morph.to_dict()\n",
        "  morph_dict = {k: v.split(\",\") for k, v in morph_dict.items()}\n",
        "  tags.update(morph_dict)\n",
        "  return tags\n",
        "\n",
        "\n",
        "def get_dep_edges(t):\n",
        "  edge_list = list()\n",
        "  for child in t.lefts:\n",
        "    edge_list.append((\n",
        "        t.i,\n",
        "        child.i,\n",
        "        {\"type\": child.dep_, \"rel_pos\": \"after\"}\n",
        "    ))\n",
        "  for child in t.rights:\n",
        "    edge_list.append((\n",
        "        t.i,\n",
        "        child.i,\n",
        "        {\"type\": child.dep_, \"rel_pos\": \"before\"}\n",
        "    ))\n",
        "  return edge_list\n",
        "\n",
        "\n",
        "def get_dep_graph(doc):\n",
        "  g = nx.DiGraph()\n",
        "\n",
        "  # add tokens and their relations\n",
        "  for t in doc:\n",
        "    # define and add the token's node to G\n",
        "    node_dict = {\n",
        "        \"text\": t.text,\n",
        "        \"pos\": t.pos_,\n",
        "        \"head\": t.head.i,\n",
        "        \"lemma\": t.lemma_\n",
        "    }\n",
        "    node_dict.update(get_token_tags(t))\n",
        "    g.add_nodes_from([(t.i, node_dict)])\n",
        "\n",
        "    # add token NER relations\n",
        "    if t.ent_type_:\n",
        "      g.add_nodes_from([\n",
        "        (t.ent_type_, {\"text\": t.ent_type_})\n",
        "      ])\n",
        "      g.add_edges_from([\n",
        "          (t.i, t.ent_type_, {\"type\":\"type\"}),\n",
        "      ])\n",
        "    # add dependency relations\n",
        "    g.add_edges_from(get_dep_edges(t))\n",
        "\n",
        "  return g"
      ],
      "metadata": {
        "id": "ILyQ01brzUgc"
      },
      "execution_count": 4,
      "outputs": []
    },
    {
      "cell_type": "markdown",
      "source": [
        "## DFS Subgraph Matcher"
      ],
      "metadata": {
        "id": "ZaOc_gTsBvPm"
      }
    },
    {
      "cell_type": "code",
      "source": [
        "# Helper functions for matching\n",
        "def node_matches(node_attrs, pattern_attrs):\n",
        "    for k, v in pattern_attrs.items():\n",
        "        if isinstance(v, str):\n",
        "            if node_attrs.get(k) != v:\n",
        "                return False\n",
        "        elif isinstance(v, set):\n",
        "            if node_attrs.get(k) not in v:\n",
        "                return False\n",
        "        else:\n",
        "            if node_attrs.get(k) != v:\n",
        "                return False\n",
        "    return True\n",
        "\n",
        "def edge_matches(edge_attrs, pattern_attrs):\n",
        "    for k, v in pattern_attrs.items():\n",
        "        if edge_attrs.get(k) != v:\n",
        "            return False\n",
        "    return True\n",
        "\n",
        "def match_chain(G: nx.DiGraph, query: list[dict]) -> list[list]:\n",
        "    \"\"\"\n",
        "    Find all paths in G matching the alternating node/edge attribute requirements\n",
        "    given in `query`.  query[0], query[2], ... are dicts of node attribute requirements;\n",
        "    query[1], query[3], ... are dicts of edge attribute requirements.  Returns a list\n",
        "    of matching node sequences.\n",
        "    \"\"\"\n",
        "    # Verify that query length is odd and > 0\n",
        "    if len(query) < 1 or len(query) % 2 == 0:\n",
        "        raise ValueError(\"Query must be non-empty and have odd length (node, edge, node, ...).\")\n",
        "\n",
        "    # Extract pattern requirements\n",
        "    n = (len(query) + 1) // 2  # number of nodes in pattern\n",
        "    node_patterns = [query[2*i] for i in range(n)]\n",
        "    edge_patterns = [query[2*i + 1] for i in range(n-1)]\n",
        "\n",
        "    # Find all matching paths using DFS\n",
        "    results = []\n",
        "\n",
        "    def dfs(current_path, pattern_idx):\n",
        "        if pattern_idx == n:\n",
        "            # We've matched all nodes in the pattern\n",
        "            results.append(current_path[:])\n",
        "            return\n",
        "\n",
        "        if pattern_idx == 0:\n",
        "            # First node - try all nodes in the graph\n",
        "            for node in G.nodes():\n",
        "                if node_matches(G.nodes[node], node_patterns[0]):\n",
        "                    current_path.append(node)\n",
        "                    dfs(current_path, 1)\n",
        "                    current_path.pop()\n",
        "        else:\n",
        "            # Not the first node - look for neighbors of the last node\n",
        "            last_node = current_path[-1]\n",
        "            edge_pattern = edge_patterns[pattern_idx - 1]\n",
        "            node_pattern = node_patterns[pattern_idx]\n",
        "\n",
        "            # Check all outgoing edges from the last node\n",
        "            for neighbor in G.neighbors(last_node):\n",
        "                # Check if the edge matches the pattern\n",
        "                edge_data = G.edges[last_node, neighbor]\n",
        "                if edge_matches(edge_data, edge_pattern):\n",
        "                    # Check if the neighbor node matches the pattern\n",
        "                    if node_matches(G.nodes[neighbor], node_pattern):\n",
        "                        current_path.append(neighbor)\n",
        "                        dfs(current_path, pattern_idx + 1)\n",
        "                        current_path.pop()\n",
        "\n",
        "    dfs([], 0)\n",
        "    return results"
      ],
      "metadata": {
        "id": "ziCw3A47BzJA"
      },
      "execution_count": 5,
      "outputs": []
    },
    {
      "cell_type": "markdown",
      "source": [
        "## Visualization"
      ],
      "metadata": {
        "id": "K0J8F6qJz3hn"
      }
    },
    {
      "cell_type": "code",
      "source": [
        "def kg_to_json(g):\n",
        "  nodes = json.dumps(list(G.nodes(data=True)), indent=2)\n",
        "  edges = json.dumps(list(G.edges(data=True)), indent=2)\n",
        "  return nodes, edges"
      ],
      "metadata": {
        "id": "CIM39kUY001u"
      },
      "execution_count": 6,
      "outputs": []
    },
    {
      "cell_type": "code",
      "source": [
        "def plot_kg(g):\n",
        "  # Extract node labels and edge labels\n",
        "  node_labels = {node: g.nodes[node]['text'] for node in g.nodes() if 'text' in g.nodes[node]}\n",
        "  edge_labels = {(u, v): d['type'] for u, v, d in g.edges(data=True)}\n",
        "\n",
        "  # Position nodes using spring layout\n",
        "  pos = nx.spring_layout(G, k=50)\n",
        "\n",
        "  # Draw the graph\n",
        "  plt.figure(figsize=(12, 8))\n",
        "  nx.draw(\n",
        "      g,\n",
        "      pos,\n",
        "      with_labels=True,\n",
        "      labels=node_labels,\n",
        "      node_size=1500,\n",
        "      node_color=\"skyblue\",\n",
        "      alpha=0.8,\n",
        "      linewidths=2,\n",
        "      edge_color=\"gray\"\n",
        "  )\n",
        "  nx.draw_networkx_edge_labels(\n",
        "      g,\n",
        "      pos,\n",
        "      edge_labels=edge_labels,\n",
        "      font_color='red'\n",
        "  )\n",
        "  plt.title(\"Semantic Knowledge Graph\")\n",
        "  plt.axis(\"off\")\n",
        "  plt.show()"
      ],
      "metadata": {
        "id": "qp1W0oo4z5GA"
      },
      "execution_count": 7,
      "outputs": []
    },
    {
      "cell_type": "markdown",
      "source": [
        "# Construct a dependency KG from the SpaCy token info\n",
        "See [RDF schema spec docs](https://www.w3.org/TR/rdf-schema/) for edge relation guidance"
      ],
      "metadata": {
        "id": "7vcBocfSmAb5"
      }
    },
    {
      "cell_type": "code",
      "source": [
        "G = get_dep_graph(doc)"
      ],
      "metadata": {
        "id": "YZoyaQrafEIS"
      },
      "execution_count": 8,
      "outputs": []
    },
    {
      "cell_type": "code",
      "source": [
        "plot_kg(G)"
      ],
      "metadata": {
        "colab": {
          "base_uri": "https://localhost:8080/",
          "height": 0
        },
        "id": "ob-WXy1Bu_Lk",
        "outputId": "ce852cf2-feec-4e8a-ce5d-8c9492bf39c4"
      },
      "execution_count": 9,
      "outputs": [
        {
          "output_type": "display_data",
          "data": {
            "text/plain": [
              "<Figure size 1200x800 with 1 Axes>"
            ],
            "image/png": "[encoded data removed]"
          },
          "metadata": {}
        }
      ]
    },
    {
      "cell_type": "markdown",
      "source": [
        "## List nodes, edges"
      ],
      "metadata": {
        "id": "j2BPHDY09tdQ"
      }
    },
    {
      "cell_type": "code",
      "source": [
        "nodes, edges = kg_to_json(G)\n",
        "print(\"Nodes\")\n",
        "print(nodes)\n",
        "print()\n",
        "print(\"Edges\")\n",
        "print(edges)"
      ],
      "metadata": {
        "colab": {
          "base_uri": "https://localhost:8080/"
        },
        "id": "QUeSg3hy0amk",
        "outputId": "26c6c6d9-c1d7-45a8-95ce-78817ef7270f"
      },
      "execution_count": 10,
      "outputs": [
        {
          "output_type": "stream",
          "name": "stdout",
          "text": [
            "Nodes\n",
            "[\n",
            "  [\n",
            "    0,\n",
            "    {\n",
            "      \"text\": \"The\",\n",
            "      \"pos\": \"DET\",\n",
            "      \"head\": 3,\n",
            "      \"lemma\": \"the\",\n",
            "      \"case\": \"title\",\n",
            "      \"type\": \"word\",\n",
            "      \"Definite\": [\n",
            "        \"Def\"\n",
            "      ],\n",
            "      \"PronType\": [\n",
            "        \"Art\"\n",
            "      ]\n",
            "    }\n",
            "  ],\n",
            "  [\n",
            "    1,\n",
            "    {\n",
            "      \"text\": \"quick\",\n",
            "      \"pos\": \"ADJ\",\n",
            "      \"head\": 3,\n",
            "      \"lemma\": \"quick\",\n",
            "      \"case\": \"lower\",\n",
            "      \"type\": \"word\",\n",
            "      \"Degree\": [\n",
            "        \"Pos\"\n",
            "      ]\n",
            "    }\n",
            "  ],\n",
            "  [\n",
            "    2,\n",
            "    {\n",
            "      \"text\": \"brown\",\n",
            "      \"pos\": \"ADJ\",\n",
            "      \"head\": 3,\n",
            "      \"lemma\": \"brown\",\n",
            "      \"case\": \"lower\",\n",
            "      \"type\": \"word\",\n",
            "      \"Degree\": [\n",
            "        \"Pos\"\n",
            "      ]\n",
            "    }\n",
            "  ],\n",
            "  [\n",
            "    3,\n",
            "    {\n",
            "      \"text\": \"fox\",\n",
            "      \"pos\": \"PROPN\",\n",
            "      \"head\": 4,\n",
            "      \"lemma\": \"fox\",\n",
            "      \"case\": \"lower\",\n",
            "      \"type\": \"word\",\n",
            "      \"Number\": [\n",
            "        \"Sing\"\n",
            "      ]\n",
            "    }\n",
            "  ],\n",
            "  [\n",
            "    4,\n",
            "    {\n",
            "      \"text\": \"jumps\",\n",
            "      \"pos\": \"VERB\",\n",
            "      \"head\": 4,\n",
            "      \"lemma\": \"jump\",\n",
            "      \"case\": \"lower\",\n",
            "      \"type\": \"word\",\n",
            "      \"Number\": [\n",
            "        \"Sing\"\n",
            "      ],\n",
            "      \"Person\": [\n",
            "        \"3\"\n",
            "      ],\n",
            "      \"Tense\": [\n",
            "        \"Pres\"\n",
            "      ],\n",
            "      \"VerbForm\": [\n",
            "        \"Fin\"\n",
            "      ]\n",
            "    }\n",
            "  ],\n",
            "  [\n",
            "    5,\n",
            "    {\n",
            "      \"text\": \"over\",\n",
            "      \"pos\": \"ADP\",\n",
            "      \"head\": 4,\n",
            "      \"lemma\": \"over\",\n",
            "      \"case\": \"lower\",\n",
            "      \"type\": \"word\"\n",
            "    }\n",
            "  ],\n",
            "  [\n",
            "    9,\n",
            "    {\n",
            "      \"text\": \".\",\n",
            "      \"pos\": \"PUNCT\",\n",
            "      \"head\": 4,\n",
            "      \"lemma\": \".\",\n",
            "      \"type\": \"punct\",\n",
            "      \"PunctType\": [\n",
            "        \"Peri\"\n",
            "      ]\n",
            "    }\n",
            "  ],\n",
            "  [\n",
            "    8,\n",
            "    {\n",
            "      \"text\": \"dog\",\n",
            "      \"pos\": \"NOUN\",\n",
            "      \"head\": 5,\n",
            "      \"lemma\": \"dog\",\n",
            "      \"case\": \"lower\",\n",
            "      \"type\": \"word\",\n",
            "      \"Number\": [\n",
            "        \"Sing\"\n",
            "      ]\n",
            "    }\n",
            "  ],\n",
            "  [\n",
            "    6,\n",
            "    {\n",
            "      \"text\": \"the\",\n",
            "      \"pos\": \"DET\",\n",
            "      \"head\": 8,\n",
            "      \"lemma\": \"the\",\n",
            "      \"case\": \"lower\",\n",
            "      \"type\": \"word\",\n",
            "      \"Definite\": [\n",
            "        \"Def\"\n",
            "      ],\n",
            "      \"PronType\": [\n",
            "        \"Art\"\n",
            "      ]\n",
            "    }\n",
            "  ],\n",
            "  [\n",
            "    7,\n",
            "    {\n",
            "      \"text\": \"lazy\",\n",
            "      \"pos\": \"ADJ\",\n",
            "      \"head\": 8,\n",
            "      \"lemma\": \"lazy\",\n",
            "      \"case\": \"lower\",\n",
            "      \"type\": \"word\",\n",
            "      \"Degree\": [\n",
            "        \"Pos\"\n",
            "      ]\n",
            "    }\n",
            "  ]\n",
            "]\n",
            "\n",
            "Edges\n",
            "[\n",
            "  [\n",
            "    3,\n",
            "    0,\n",
            "    {\n",
            "      \"type\": \"det\",\n",
            "      \"rel_pos\": \"after\"\n",
            "    }\n",
            "  ],\n",
            "  [\n",
            "    3,\n",
            "    1,\n",
            "    {\n",
            "      \"type\": \"amod\",\n",
            "      \"rel_pos\": \"after\"\n",
            "    }\n",
            "  ],\n",
            "  [\n",
            "    3,\n",
            "    2,\n",
            "    {\n",
            "      \"type\": \"amod\",\n",
            "      \"rel_pos\": \"after\"\n",
            "    }\n",
            "  ],\n",
            "  [\n",
            "    4,\n",
            "    3,\n",
            "    {\n",
            "      \"type\": \"nsubj\",\n",
            "      \"rel_pos\": \"after\"\n",
            "    }\n",
            "  ],\n",
            "  [\n",
            "    4,\n",
            "    5,\n",
            "    {\n",
            "      \"type\": \"prep\",\n",
            "      \"rel_pos\": \"before\"\n",
            "    }\n",
            "  ],\n",
            "  [\n",
            "    4,\n",
            "    9,\n",
            "    {\n",
            "      \"type\": \"punct\",\n",
            "      \"rel_pos\": \"before\"\n",
            "    }\n",
            "  ],\n",
            "  [\n",
            "    5,\n",
            "    8,\n",
            "    {\n",
            "      \"type\": \"pobj\",\n",
            "      \"rel_pos\": \"before\"\n",
            "    }\n",
            "  ],\n",
            "  [\n",
            "    8,\n",
            "    6,\n",
            "    {\n",
            "      \"type\": \"det\",\n",
            "      \"rel_pos\": \"after\"\n",
            "    }\n",
            "  ],\n",
            "  [\n",
            "    8,\n",
            "    7,\n",
            "    {\n",
            "      \"type\": \"amod\",\n",
            "      \"rel_pos\": \"after\"\n",
            "    }\n",
            "  ]\n",
            "]\n"
          ]
        }
      ]
    },
    {
      "cell_type": "markdown",
      "source": [
        "# Get implied relations from phrase/clause-level structures"
      ],
      "metadata": {
        "id": "YMP3w9h2vbP8"
      }
    },
    {
      "cell_type": "code",
      "source": [
        "result = match_chain(G, [{\"pos\": \"VERB\"}, {\"type\": \"nsubj\"}, {\"pos\": \"PROPN\"}])\n",
        "print(f\"\\nMatches found: {result}\")"
      ],
      "metadata": {
        "colab": {
          "base_uri": "https://localhost:8080/"
        },
        "id": "rflENnUO46Ro",
        "outputId": "663e8886-a00c-4a4d-d270-7e7311dce2d1"
      },
      "execution_count": 11,
      "outputs": [
        {
          "output_type": "stream",
          "name": "stdout",
          "text": [
            "\n",
            "Matches found: [[4, 3]]\n"
          ]
        }
      ]
    },
    {
      "cell_type": "code",
      "source": [],
      "metadata": {
        "id": "eOLaP8qG-28Z"
      },
      "execution_count": 11,
      "outputs": []
    }
  ]
}