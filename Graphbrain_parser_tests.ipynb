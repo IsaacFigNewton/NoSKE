{
  "cells": [
    {
      "cell_type": "markdown",
      "metadata": {
        "id": "view-in-github",
        "colab_type": "text"
      },
      "source": [
        "<a href=\"https://colab.research.google.com/github/IsaacFigNewton/NoSKE-Pipeline/blob/hypergraphx-integration/Graphbrain_parser_tests.ipynb\" target=\"_parent\"><img src=\"https://colab.research.google.com/assets/colab-badge.svg\" alt=\"Open In Colab\"/></a>"
      ]
    },
    {
      "cell_type": "markdown",
      "source": [
        "# Install Dependencies"
      ],
      "metadata": {
        "id": "1SqyOawsxERh"
      }
    },
    {
      "cell_type": "code",
      "source": [
        "!git clone https://github.com/graphbrain/graphbrain.git\n",
        "!pip install cython\n",
        "!pip install ./graphbrain\n",
        "!python -m spacy download en_core_web_lg"
      ],
      "metadata": {
        "colab": {
          "base_uri": "https://localhost:8080/"
        },
        "id": "ib-WPt0UqExc",
        "outputId": "5e9fd50c-7b63-4e00-a807-629f9b6589f8"
      },
      "execution_count": 1,
      "outputs": [
        {
          "output_type": "stream",
          "name": "stdout",
          "text": [
            "Cloning into 'graphbrain'...\n",
            "remote: Enumerating objects: 38286, done.\u001b[K\n",
            "remote: Counting objects: 100% (5095/5095), done.\u001b[K\n",
            "remote: Compressing objects: 100% (1187/1187), done.\u001b[K\n",
            "remote: Total 38286 (delta 3918), reused 4767 (delta 3843), pack-reused 33191 (from 1)\u001b[K\n",
            "Receiving objects: 100% (38286/38286), 105.12 MiB | 18.50 MiB/s, done.\n",
            "Resolving deltas: 100% (24020/24020), done.\n",
            "Requirement already satisfied: cython in /usr/local/lib/python3.11/dist-packages (3.0.12)\n",
            "Processing ./graphbrain\n",
            "  Installing build dependencies ... \u001b[?25l\u001b[?25hdone\n",
            "  Getting requirements to build wheel ... \u001b[?25l\u001b[?25hdone\n",
            "  Preparing metadata (pyproject.toml) ... \u001b[?25l\u001b[?25hdone\n",
            "Collecting asciitree (from graphbrain==0.7.0.dev0)\n",
            "  Downloading asciitree-0.3.3.tar.gz (4.0 kB)\n",
            "  Preparing metadata (setup.py) ... \u001b[?25l\u001b[?25hdone\n",
            "Requirement already satisfied: ipython in /usr/local/lib/python3.11/dist-packages (from graphbrain==0.7.0.dev0) (7.34.0)\n",
            "Collecting mwparserfromhell (from graphbrain==0.7.0.dev0)\n",
            "  Downloading mwparserfromhell-0.7.2-cp311-cp311-manylinux2014_x86_64.manylinux_2_17_x86_64.manylinux_2_28_x86_64.whl.metadata (10 kB)\n",
            "Requirement already satisfied: networkx in /usr/local/lib/python3.11/dist-packages (from graphbrain==0.7.0.dev0) (3.5)\n",
            "Requirement already satisfied: numpy in /usr/local/lib/python3.11/dist-packages (from graphbrain==0.7.0.dev0) (2.0.2)\n",
            "Collecting plyvel (from graphbrain==0.7.0.dev0)\n",
            "  Downloading plyvel-1.5.1-cp311-cp311-manylinux_2_17_x86_64.manylinux2014_x86_64.whl.metadata (1.7 kB)\n",
            "Requirement already satisfied: progressbar2 in /usr/local/lib/python3.11/dist-packages (from graphbrain==0.7.0.dev0) (4.5.0)\n",
            "Requirement already satisfied: scikit-learn in /usr/local/lib/python3.11/dist-packages (from graphbrain==0.7.0.dev0) (1.6.1)\n",
            "Requirement already satisfied: spacy in /usr/local/lib/python3.11/dist-packages (from graphbrain==0.7.0.dev0) (3.8.7)\n",
            "Collecting spacy-transformers (from graphbrain==0.7.0.dev0)\n",
            "  Downloading spacy_transformers-1.3.9-cp311-cp311-manylinux_2_17_x86_64.manylinux2014_x86_64.whl.metadata (7.0 kB)\n",
            "Requirement already satisfied: termcolor in /usr/local/lib/python3.11/dist-packages (from graphbrain==0.7.0.dev0) (3.1.0)\n",
            "Requirement already satisfied: thinc in /usr/local/lib/python3.11/dist-packages (from graphbrain==0.7.0.dev0) (8.3.6)\n",
            "Requirement already satisfied: torch in /usr/local/lib/python3.11/dist-packages (from graphbrain==0.7.0.dev0) (2.6.0+cu124)\n",
            "Collecting trafilatura (from graphbrain==0.7.0.dev0)\n",
            "  Downloading trafilatura-2.0.0-py3-none-any.whl.metadata (12 kB)\n",
            "Requirement already satisfied: setuptools>=18.5 in /usr/local/lib/python3.11/dist-packages (from ipython->graphbrain==0.7.0.dev0) (75.2.0)\n",
            "Collecting jedi>=0.16 (from ipython->graphbrain==0.7.0.dev0)\n",
            "  Downloading jedi-0.19.2-py2.py3-none-any.whl.metadata (22 kB)\n",
            "Requirement already satisfied: decorator in /usr/local/lib/python3.11/dist-packages (from ipython->graphbrain==0.7.0.dev0) (4.4.2)\n",
            "Requirement already satisfied: pickleshare in /usr/local/lib/python3.11/dist-packages (from ipython->graphbrain==0.7.0.dev0) (0.7.5)\n",
            "Requirement already satisfied: traitlets>=4.2 in /usr/local/lib/python3.11/dist-packages (from ipython->graphbrain==0.7.0.dev0) (5.7.1)\n",
            "Requirement already satisfied: prompt-toolkit!=3.0.0,!=3.0.1,<3.1.0,>=2.0.0 in /usr/local/lib/python3.11/dist-packages (from ipython->graphbrain==0.7.0.dev0) (3.0.51)\n",
            "Requirement already satisfied: pygments in /usr/local/lib/python3.11/dist-packages (from ipython->graphbrain==0.7.0.dev0) (2.19.2)\n",
            "Requirement already satisfied: backcall in /usr/local/lib/python3.11/dist-packages (from ipython->graphbrain==0.7.0.dev0) (0.2.0)\n",
            "Requirement already satisfied: matplotlib-inline in /usr/local/lib/python3.11/dist-packages (from ipython->graphbrain==0.7.0.dev0) (0.1.7)\n",
            "Requirement already satisfied: pexpect>4.3 in /usr/local/lib/python3.11/dist-packages (from ipython->graphbrain==0.7.0.dev0) (4.9.0)\n",
            "Requirement already satisfied: python-utils>=3.8.1 in /usr/local/lib/python3.11/dist-packages (from progressbar2->graphbrain==0.7.0.dev0) (3.9.1)\n",
            "Requirement already satisfied: scipy>=1.6.0 in /usr/local/lib/python3.11/dist-packages (from scikit-learn->graphbrain==0.7.0.dev0) (1.15.3)\n",
            "Requirement already satisfied: joblib>=1.2.0 in /usr/local/lib/python3.11/dist-packages (from scikit-learn->graphbrain==0.7.0.dev0) (1.5.1)\n",
            "Requirement already satisfied: threadpoolctl>=3.1.0 in /usr/local/lib/python3.11/dist-packages (from scikit-learn->graphbrain==0.7.0.dev0) (3.6.0)\n",
            "Requirement already satisfied: spacy-legacy<3.1.0,>=3.0.11 in /usr/local/lib/python3.11/dist-packages (from spacy->graphbrain==0.7.0.dev0) (3.0.12)\n",
            "Requirement already satisfied: spacy-loggers<2.0.0,>=1.0.0 in /usr/local/lib/python3.11/dist-packages (from spacy->graphbrain==0.7.0.dev0) (1.0.5)\n",
            "Requirement already satisfied: murmurhash<1.1.0,>=0.28.0 in /usr/local/lib/python3.11/dist-packages (from spacy->graphbrain==0.7.0.dev0) (1.0.13)\n",
            "Requirement already satisfied: cymem<2.1.0,>=2.0.2 in /usr/local/lib/python3.11/dist-packages (from spacy->graphbrain==0.7.0.dev0) (2.0.11)\n",
            "Requirement already satisfied: preshed<3.1.0,>=3.0.2 in /usr/local/lib/python3.11/dist-packages (from spacy->graphbrain==0.7.0.dev0) (3.0.10)\n",
            "Requirement already satisfied: wasabi<1.2.0,>=0.9.1 in /usr/local/lib/python3.11/dist-packages (from spacy->graphbrain==0.7.0.dev0) (1.1.3)\n",
            "Requirement already satisfied: srsly<3.0.0,>=2.4.3 in /usr/local/lib/python3.11/dist-packages (from spacy->graphbrain==0.7.0.dev0) (2.5.1)\n",
            "Requirement already satisfied: catalogue<2.1.0,>=2.0.6 in /usr/local/lib/python3.11/dist-packages (from spacy->graphbrain==0.7.0.dev0) (2.0.10)\n",
            "Requirement already satisfied: weasel<0.5.0,>=0.1.0 in /usr/local/lib/python3.11/dist-packages (from spacy->graphbrain==0.7.0.dev0) (0.4.1)\n",
            "Requirement already satisfied: typer<1.0.0,>=0.3.0 in /usr/local/lib/python3.11/dist-packages (from spacy->graphbrain==0.7.0.dev0) (0.16.0)\n",
            "Requirement already satisfied: tqdm<5.0.0,>=4.38.0 in /usr/local/lib/python3.11/dist-packages (from spacy->graphbrain==0.7.0.dev0) (4.67.1)\n",
            "Requirement already satisfied: requests<3.0.0,>=2.13.0 in /usr/local/lib/python3.11/dist-packages (from spacy->graphbrain==0.7.0.dev0) (2.32.3)\n",
            "Requirement already satisfied: pydantic!=1.8,!=1.8.1,<3.0.0,>=1.7.4 in /usr/local/lib/python3.11/dist-packages (from spacy->graphbrain==0.7.0.dev0) (2.11.7)\n",
            "Requirement already satisfied: jinja2 in /usr/local/lib/python3.11/dist-packages (from spacy->graphbrain==0.7.0.dev0) (3.1.6)\n",
            "Requirement already satisfied: packaging>=20.0 in /usr/local/lib/python3.11/dist-packages (from spacy->graphbrain==0.7.0.dev0) (24.2)\n",
            "Requirement already satisfied: langcodes<4.0.0,>=3.2.0 in /usr/local/lib/python3.11/dist-packages (from spacy->graphbrain==0.7.0.dev0) (3.5.0)\n",
            "Requirement already satisfied: blis<1.4.0,>=1.3.0 in /usr/local/lib/python3.11/dist-packages (from thinc->graphbrain==0.7.0.dev0) (1.3.0)\n",
            "Requirement already satisfied: confection<1.0.0,>=0.0.1 in /usr/local/lib/python3.11/dist-packages (from thinc->graphbrain==0.7.0.dev0) (0.1.5)\n",
            "Collecting transformers<4.50.0,>=3.4.0 (from spacy-transformers->graphbrain==0.7.0.dev0)\n",
            "  Downloading transformers-4.49.0-py3-none-any.whl.metadata (44 kB)\n",
            "\u001b[2K     \u001b[90m━━━━━━━━━━━━━━━━━━━━━━━━━━━━━━━━━━━━━━━━\u001b[0m \u001b[32m44.0/44.0 kB\u001b[0m \u001b[31m1.5 MB/s\u001b[0m eta \u001b[36m0:00:00\u001b[0m\n",
            "\u001b[?25hCollecting spacy-alignments<1.0.0,>=0.7.2 (from spacy-transformers->graphbrain==0.7.0.dev0)\n",
            "  Downloading spacy_alignments-0.9.2-cp311-cp311-manylinux_2_17_x86_64.manylinux2014_x86_64.whl.metadata (2.6 kB)\n",
            "Requirement already satisfied: filelock in /usr/local/lib/python3.11/dist-packages (from torch->graphbrain==0.7.0.dev0) (3.18.0)\n",
            "Requirement already satisfied: typing-extensions>=4.10.0 in /usr/local/lib/python3.11/dist-packages (from torch->graphbrain==0.7.0.dev0) (4.14.1)\n",
            "Requirement already satisfied: fsspec in /usr/local/lib/python3.11/dist-packages (from torch->graphbrain==0.7.0.dev0) (2025.3.2)\n",
            "Collecting nvidia-cuda-nvrtc-cu12==12.4.127 (from torch->graphbrain==0.7.0.dev0)\n",
            "  Downloading nvidia_cuda_nvrtc_cu12-12.4.127-py3-none-manylinux2014_x86_64.whl.metadata (1.5 kB)\n",
            "Collecting nvidia-cuda-runtime-cu12==12.4.127 (from torch->graphbrain==0.7.0.dev0)\n",
            "  Downloading nvidia_cuda_runtime_cu12-12.4.127-py3-none-manylinux2014_x86_64.whl.metadata (1.5 kB)\n",
            "Collecting nvidia-cuda-cupti-cu12==12.4.127 (from torch->graphbrain==0.7.0.dev0)\n",
            "  Downloading nvidia_cuda_cupti_cu12-12.4.127-py3-none-manylinux2014_x86_64.whl.metadata (1.6 kB)\n",
            "Collecting nvidia-cudnn-cu12==9.1.0.70 (from torch->graphbrain==0.7.0.dev0)\n",
            "  Downloading nvidia_cudnn_cu12-9.1.0.70-py3-none-manylinux2014_x86_64.whl.metadata (1.6 kB)\n",
            "Collecting nvidia-cublas-cu12==12.4.5.8 (from torch->graphbrain==0.7.0.dev0)\n",
            "  Downloading nvidia_cublas_cu12-12.4.5.8-py3-none-manylinux2014_x86_64.whl.metadata (1.5 kB)\n",
            "Collecting nvidia-cufft-cu12==11.2.1.3 (from torch->graphbrain==0.7.0.dev0)\n",
            "  Downloading nvidia_cufft_cu12-11.2.1.3-py3-none-manylinux2014_x86_64.whl.metadata (1.5 kB)\n",
            "Collecting nvidia-curand-cu12==10.3.5.147 (from torch->graphbrain==0.7.0.dev0)\n",
            "  Downloading nvidia_curand_cu12-10.3.5.147-py3-none-manylinux2014_x86_64.whl.metadata (1.5 kB)\n",
            "Collecting nvidia-cusolver-cu12==11.6.1.9 (from torch->graphbrain==0.7.0.dev0)\n",
            "  Downloading nvidia_cusolver_cu12-11.6.1.9-py3-none-manylinux2014_x86_64.whl.metadata (1.6 kB)\n",
            "Collecting nvidia-cusparse-cu12==12.3.1.170 (from torch->graphbrain==0.7.0.dev0)\n",
            "  Downloading nvidia_cusparse_cu12-12.3.1.170-py3-none-manylinux2014_x86_64.whl.metadata (1.6 kB)\n",
            "Requirement already satisfied: nvidia-cusparselt-cu12==0.6.2 in /usr/local/lib/python3.11/dist-packages (from torch->graphbrain==0.7.0.dev0) (0.6.2)\n",
            "Requirement already satisfied: nvidia-nccl-cu12==2.21.5 in /usr/local/lib/python3.11/dist-packages (from torch->graphbrain==0.7.0.dev0) (2.21.5)\n",
            "Requirement already satisfied: nvidia-nvtx-cu12==12.4.127 in /usr/local/lib/python3.11/dist-packages (from torch->graphbrain==0.7.0.dev0) (12.4.127)\n",
            "Collecting nvidia-nvjitlink-cu12==12.4.127 (from torch->graphbrain==0.7.0.dev0)\n",
            "  Downloading nvidia_nvjitlink_cu12-12.4.127-py3-none-manylinux2014_x86_64.whl.metadata (1.5 kB)\n",
            "Requirement already satisfied: triton==3.2.0 in /usr/local/lib/python3.11/dist-packages (from torch->graphbrain==0.7.0.dev0) (3.2.0)\n",
            "Requirement already satisfied: sympy==1.13.1 in /usr/local/lib/python3.11/dist-packages (from torch->graphbrain==0.7.0.dev0) (1.13.1)\n",
            "Requirement already satisfied: mpmath<1.4,>=1.1.0 in /usr/local/lib/python3.11/dist-packages (from sympy==1.13.1->torch->graphbrain==0.7.0.dev0) (1.3.0)\n",
            "Requirement already satisfied: certifi in /usr/local/lib/python3.11/dist-packages (from trafilatura->graphbrain==0.7.0.dev0) (2025.7.14)\n",
            "Requirement already satisfied: charset_normalizer>=3.4.0 in /usr/local/lib/python3.11/dist-packages (from trafilatura->graphbrain==0.7.0.dev0) (3.4.2)\n",
            "Collecting courlan>=1.3.2 (from trafilatura->graphbrain==0.7.0.dev0)\n",
            "  Downloading courlan-1.3.2-py3-none-any.whl.metadata (17 kB)\n",
            "Collecting htmldate>=1.9.2 (from trafilatura->graphbrain==0.7.0.dev0)\n",
            "  Downloading htmldate-1.9.3-py3-none-any.whl.metadata (10 kB)\n",
            "Collecting justext>=3.0.1 (from trafilatura->graphbrain==0.7.0.dev0)\n",
            "  Downloading justext-3.0.2-py2.py3-none-any.whl.metadata (7.3 kB)\n",
            "Requirement already satisfied: lxml>=5.3.0 in /usr/local/lib/python3.11/dist-packages (from trafilatura->graphbrain==0.7.0.dev0) (5.4.0)\n",
            "Requirement already satisfied: urllib3<3,>=1.26 in /usr/local/lib/python3.11/dist-packages (from trafilatura->graphbrain==0.7.0.dev0) (2.4.0)\n",
            "Requirement already satisfied: babel>=2.16.0 in /usr/local/lib/python3.11/dist-packages (from courlan>=1.3.2->trafilatura->graphbrain==0.7.0.dev0) (2.17.0)\n",
            "Collecting tld>=0.13 (from courlan>=1.3.2->trafilatura->graphbrain==0.7.0.dev0)\n",
            "  Downloading tld-0.13.1-py2.py3-none-any.whl.metadata (10 kB)\n",
            "Collecting dateparser>=1.1.2 (from htmldate>=1.9.2->trafilatura->graphbrain==0.7.0.dev0)\n",
            "  Downloading dateparser-1.2.2-py3-none-any.whl.metadata (29 kB)\n",
            "Requirement already satisfied: python-dateutil>=2.9.0.post0 in /usr/local/lib/python3.11/dist-packages (from htmldate>=1.9.2->trafilatura->graphbrain==0.7.0.dev0) (2.9.0.post0)\n",
            "Requirement already satisfied: parso<0.9.0,>=0.8.4 in /usr/local/lib/python3.11/dist-packages (from jedi>=0.16->ipython->graphbrain==0.7.0.dev0) (0.8.4)\n",
            "Requirement already satisfied: language-data>=1.2 in /usr/local/lib/python3.11/dist-packages (from langcodes<4.0.0,>=3.2.0->spacy->graphbrain==0.7.0.dev0) (1.3.0)\n",
            "Requirement already satisfied: ptyprocess>=0.5 in /usr/local/lib/python3.11/dist-packages (from pexpect>4.3->ipython->graphbrain==0.7.0.dev0) (0.7.0)\n",
            "Requirement already satisfied: wcwidth in /usr/local/lib/python3.11/dist-packages (from prompt-toolkit!=3.0.0,!=3.0.1,<3.1.0,>=2.0.0->ipython->graphbrain==0.7.0.dev0) (0.2.13)\n",
            "Requirement already satisfied: annotated-types>=0.6.0 in /usr/local/lib/python3.11/dist-packages (from pydantic!=1.8,!=1.8.1,<3.0.0,>=1.7.4->spacy->graphbrain==0.7.0.dev0) (0.7.0)\n",
            "Requirement already satisfied: pydantic-core==2.33.2 in /usr/local/lib/python3.11/dist-packages (from pydantic!=1.8,!=1.8.1,<3.0.0,>=1.7.4->spacy->graphbrain==0.7.0.dev0) (2.33.2)\n",
            "Requirement already satisfied: typing-inspection>=0.4.0 in /usr/local/lib/python3.11/dist-packages (from pydantic!=1.8,!=1.8.1,<3.0.0,>=1.7.4->spacy->graphbrain==0.7.0.dev0) (0.4.1)\n",
            "Requirement already satisfied: idna<4,>=2.5 in /usr/local/lib/python3.11/dist-packages (from requests<3.0.0,>=2.13.0->spacy->graphbrain==0.7.0.dev0) (3.10)\n",
            "Requirement already satisfied: huggingface-hub<1.0,>=0.26.0 in /usr/local/lib/python3.11/dist-packages (from transformers<4.50.0,>=3.4.0->spacy-transformers->graphbrain==0.7.0.dev0) (0.33.4)\n",
            "Requirement already satisfied: pyyaml>=5.1 in /usr/local/lib/python3.11/dist-packages (from transformers<4.50.0,>=3.4.0->spacy-transformers->graphbrain==0.7.0.dev0) (6.0.2)\n",
            "Requirement already satisfied: regex!=2019.12.17 in /usr/local/lib/python3.11/dist-packages (from transformers<4.50.0,>=3.4.0->spacy-transformers->graphbrain==0.7.0.dev0) (2024.11.6)\n",
            "Requirement already satisfied: tokenizers<0.22,>=0.21 in /usr/local/lib/python3.11/dist-packages (from transformers<4.50.0,>=3.4.0->spacy-transformers->graphbrain==0.7.0.dev0) (0.21.2)\n",
            "Requirement already satisfied: safetensors>=0.4.1 in /usr/local/lib/python3.11/dist-packages (from transformers<4.50.0,>=3.4.0->spacy-transformers->graphbrain==0.7.0.dev0) (0.5.3)\n",
            "Requirement already satisfied: click>=8.0.0 in /usr/local/lib/python3.11/dist-packages (from typer<1.0.0,>=0.3.0->spacy->graphbrain==0.7.0.dev0) (8.2.1)\n",
            "Requirement already satisfied: shellingham>=1.3.0 in /usr/local/lib/python3.11/dist-packages (from typer<1.0.0,>=0.3.0->spacy->graphbrain==0.7.0.dev0) (1.5.4)\n",
            "Requirement already satisfied: rich>=10.11.0 in /usr/local/lib/python3.11/dist-packages (from typer<1.0.0,>=0.3.0->spacy->graphbrain==0.7.0.dev0) (13.9.4)\n",
            "Requirement already satisfied: cloudpathlib<1.0.0,>=0.7.0 in /usr/local/lib/python3.11/dist-packages (from weasel<0.5.0,>=0.1.0->spacy->graphbrain==0.7.0.dev0) (0.21.1)\n",
            "Requirement already satisfied: smart-open<8.0.0,>=5.2.1 in /usr/local/lib/python3.11/dist-packages (from weasel<0.5.0,>=0.1.0->spacy->graphbrain==0.7.0.dev0) (7.3.0.post1)\n",
            "Requirement already satisfied: MarkupSafe>=2.0 in /usr/local/lib/python3.11/dist-packages (from jinja2->spacy->graphbrain==0.7.0.dev0) (3.0.2)\n",
            "Requirement already satisfied: pytz>=2024.2 in /usr/local/lib/python3.11/dist-packages (from dateparser>=1.1.2->htmldate>=1.9.2->trafilatura->graphbrain==0.7.0.dev0) (2025.2)\n",
            "Requirement already satisfied: tzlocal>=0.2 in /usr/local/lib/python3.11/dist-packages (from dateparser>=1.1.2->htmldate>=1.9.2->trafilatura->graphbrain==0.7.0.dev0) (5.3.1)\n",
            "Requirement already satisfied: hf-xet<2.0.0,>=1.1.2 in /usr/local/lib/python3.11/dist-packages (from huggingface-hub<1.0,>=0.26.0->transformers<4.50.0,>=3.4.0->spacy-transformers->graphbrain==0.7.0.dev0) (1.1.5)\n",
            "Requirement already satisfied: marisa-trie>=1.1.0 in /usr/local/lib/python3.11/dist-packages (from language-data>=1.2->langcodes<4.0.0,>=3.2.0->spacy->graphbrain==0.7.0.dev0) (1.2.1)\n",
            "Collecting lxml_html_clean (from lxml[html_clean]>=4.4.2->justext>=3.0.1->trafilatura->graphbrain==0.7.0.dev0)\n",
            "  Downloading lxml_html_clean-0.4.2-py3-none-any.whl.metadata (2.4 kB)\n",
            "Requirement already satisfied: six>=1.5 in /usr/local/lib/python3.11/dist-packages (from python-dateutil>=2.9.0.post0->htmldate>=1.9.2->trafilatura->graphbrain==0.7.0.dev0) (1.17.0)\n",
            "Requirement already satisfied: markdown-it-py>=2.2.0 in /usr/local/lib/python3.11/dist-packages (from rich>=10.11.0->typer<1.0.0,>=0.3.0->spacy->graphbrain==0.7.0.dev0) (3.0.0)\n",
            "Requirement already satisfied: wrapt in /usr/local/lib/python3.11/dist-packages (from smart-open<8.0.0,>=5.2.1->weasel<0.5.0,>=0.1.0->spacy->graphbrain==0.7.0.dev0) (1.17.2)\n",
            "Requirement already satisfied: mdurl~=0.1 in /usr/local/lib/python3.11/dist-packages (from markdown-it-py>=2.2.0->rich>=10.11.0->typer<1.0.0,>=0.3.0->spacy->graphbrain==0.7.0.dev0) (0.1.2)\n",
            "Downloading mwparserfromhell-0.7.2-cp311-cp311-manylinux2014_x86_64.manylinux_2_17_x86_64.manylinux_2_28_x86_64.whl (251 kB)\n",
            "\u001b[2K   \u001b[90m━━━━━━━━━━━━━━━━━━━━━━━━━━━━━━━━━━━━━━━━\u001b[0m \u001b[32m251.7/251.7 kB\u001b[0m \u001b[31m9.2 MB/s\u001b[0m eta \u001b[36m0:00:00\u001b[0m\n",
            "\u001b[?25hDownloading plyvel-1.5.1-cp311-cp311-manylinux_2_17_x86_64.manylinux2014_x86_64.whl (946 kB)\n",
            "\u001b[2K   \u001b[90m━━━━━━━━━━━━━━━━━━━━━━━━━━━━━━━━━━━━━━━━\u001b[0m \u001b[32m946.2/946.2 kB\u001b[0m \u001b[31m28.7 MB/s\u001b[0m eta \u001b[36m0:00:00\u001b[0m\n",
            "\u001b[?25hDownloading spacy_transformers-1.3.9-cp311-cp311-manylinux_2_17_x86_64.manylinux2014_x86_64.whl (758 kB)\n",
            "\u001b[2K   \u001b[90m━━━━━━━━━━━━━━━━━━━━━━━━━━━━━━━━━━━━━━━━\u001b[0m \u001b[32m758.8/758.8 kB\u001b[0m \u001b[31m43.5 MB/s\u001b[0m eta \u001b[36m0:00:00\u001b[0m\n",
            "\u001b[?25hDownloading nvidia_cublas_cu12-12.4.5.8-py3-none-manylinux2014_x86_64.whl (363.4 MB)\n",
            "\u001b[2K   \u001b[90m━━━━━━━━━━━━━━━━━━━━━━━━━━━━━━━━━━━━━━━━\u001b[0m \u001b[32m363.4/363.4 MB\u001b[0m \u001b[31m4.5 MB/s\u001b[0m eta \u001b[36m0:00:00\u001b[0m\n",
            "\u001b[?25hDownloading nvidia_cuda_cupti_cu12-12.4.127-py3-none-manylinux2014_x86_64.whl (13.8 MB)\n",
            "\u001b[2K   \u001b[90m━━━━━━━━━━━━━━━━━━━━━━━━━━━━━━━━━━━━━━━━\u001b[0m \u001b[32m13.8/13.8 MB\u001b[0m \u001b[31m90.9 MB/s\u001b[0m eta \u001b[36m0:00:00\u001b[0m\n",
            "\u001b[?25hDownloading nvidia_cuda_nvrtc_cu12-12.4.127-py3-none-manylinux2014_x86_64.whl (24.6 MB)\n",
            "\u001b[2K   \u001b[90m━━━━━━━━━━━━━━━━━━━━━━━━━━━━━━━━━━━━━━━━\u001b[0m \u001b[32m24.6/24.6 MB\u001b[0m \u001b[31m68.9 MB/s\u001b[0m eta \u001b[36m0:00:00\u001b[0m\n",
            "\u001b[?25hDownloading nvidia_cuda_runtime_cu12-12.4.127-py3-none-manylinux2014_x86_64.whl (883 kB)\n",
            "\u001b[2K   \u001b[90m━━━━━━━━━━━━━━━━━━━━━━━━━━━━━━━━━━━━━━━━\u001b[0m \u001b[32m883.7/883.7 kB\u001b[0m \u001b[31m45.0 MB/s\u001b[0m eta \u001b[36m0:00:00\u001b[0m\n",
            "\u001b[?25hDownloading nvidia_cudnn_cu12-9.1.0.70-py3-none-manylinux2014_x86_64.whl (664.8 MB)\n",
            "\u001b[2K   \u001b[90m━━━━━━━━━━━━━━━━━━━━━━━━━━━━━━━━━━━━━━━\u001b[0m \u001b[32m664.8/664.8 MB\u001b[0m \u001b[31m873.9 kB/s\u001b[0m eta \u001b[36m0:00:00\u001b[0m\n",
            "\u001b[?25hDownloading nvidia_cufft_cu12-11.2.1.3-py3-none-manylinux2014_x86_64.whl (211.5 MB)\n",
            "\u001b[2K   \u001b[90m━━━━━━━━━━━━━━━━━━━━━━━━━━━━━━━━━━━━━━━━\u001b[0m \u001b[32m211.5/211.5 MB\u001b[0m \u001b[31m5.7 MB/s\u001b[0m eta \u001b[36m0:00:00\u001b[0m\n",
            "\u001b[?25hDownloading nvidia_curand_cu12-10.3.5.147-py3-none-manylinux2014_x86_64.whl (56.3 MB)\n",
            "\u001b[2K   \u001b[90m━━━━━━━━━━━━━━━━━━━━━━━━━━━━━━━━━━━━━━━━\u001b[0m \u001b[32m56.3/56.3 MB\u001b[0m \u001b[31m9.8 MB/s\u001b[0m eta \u001b[36m0:00:00\u001b[0m\n",
            "\u001b[?25hDownloading nvidia_cusolver_cu12-11.6.1.9-py3-none-manylinux2014_x86_64.whl (127.9 MB)\n",
            "\u001b[2K   \u001b[90m━━━━━━━━━━━━━━━━━━━━━━━━━━━━━━━━━━━━━━━━\u001b[0m \u001b[32m127.9/127.9 MB\u001b[0m \u001b[31m7.7 MB/s\u001b[0m eta \u001b[36m0:00:00\u001b[0m\n",
            "\u001b[?25hDownloading nvidia_cusparse_cu12-12.3.1.170-py3-none-manylinux2014_x86_64.whl (207.5 MB)\n",
            "\u001b[2K   \u001b[90m━━━━━━━━━━━━━━━━━━━━━━━━━━━━━━━━━━━━━━━━\u001b[0m \u001b[32m207.5/207.5 MB\u001b[0m \u001b[31m6.0 MB/s\u001b[0m eta \u001b[36m0:00:00\u001b[0m\n",
            "\u001b[?25hDownloading nvidia_nvjitlink_cu12-12.4.127-py3-none-manylinux2014_x86_64.whl (21.1 MB)\n",
            "\u001b[2K   \u001b[90m━━━━━━━━━━━━━━━━━━━━━━━━━━━━━━━━━━━━━━━━\u001b[0m \u001b[32m21.1/21.1 MB\u001b[0m \u001b[31m81.1 MB/s\u001b[0m eta \u001b[36m0:00:00\u001b[0m\n",
            "\u001b[?25hDownloading trafilatura-2.0.0-py3-none-any.whl (132 kB)\n",
            "\u001b[2K   \u001b[90m━━━━━━━━━━━━━━━━━━━━━━━━━━━━━━━━━━━━━━━━\u001b[0m \u001b[32m132.6/132.6 kB\u001b[0m \u001b[31m10.3 MB/s\u001b[0m eta \u001b[36m0:00:00\u001b[0m\n",
            "\u001b[?25hDownloading courlan-1.3.2-py3-none-any.whl (33 kB)\n",
            "Downloading htmldate-1.9.3-py3-none-any.whl (31 kB)\n",
            "Downloading jedi-0.19.2-py2.py3-none-any.whl (1.6 MB)\n",
            "\u001b[2K   \u001b[90m━━━━━━━━━━━━━━━━━━━━━━━━━━━━━━━━━━━━━━━━\u001b[0m \u001b[32m1.6/1.6 MB\u001b[0m \u001b[31m64.8 MB/s\u001b[0m eta \u001b[36m0:00:00\u001b[0m\n",
            "\u001b[?25hDownloading justext-3.0.2-py2.py3-none-any.whl (837 kB)\n",
            "\u001b[2K   \u001b[90m━━━━━━━━━━━━━━━━━━━━━━━━━━━━━━━━━━━━━━━━\u001b[0m \u001b[32m837.9/837.9 kB\u001b[0m \u001b[31m42.7 MB/s\u001b[0m eta \u001b[36m0:00:00\u001b[0m\n",
            "\u001b[?25hDownloading spacy_alignments-0.9.2-cp311-cp311-manylinux_2_17_x86_64.manylinux2014_x86_64.whl (314 kB)\n",
            "\u001b[2K   \u001b[90m━━━━━━━━━━━━━━━━━━━━━━━━━━━━━━━━━━━━━━━━\u001b[0m \u001b[32m314.2/314.2 kB\u001b[0m \u001b[31m22.3 MB/s\u001b[0m eta \u001b[36m0:00:00\u001b[0m\n",
            "\u001b[?25hDownloading transformers-4.49.0-py3-none-any.whl (10.0 MB)\n",
            "\u001b[2K   \u001b[90m━━━━━━━━━━━━━━━━━━━━━━━━━━━━━━━━━━━━━━━━\u001b[0m \u001b[32m10.0/10.0 MB\u001b[0m \u001b[31m99.9 MB/s\u001b[0m eta \u001b[36m0:00:00\u001b[0m\n",
            "\u001b[?25hDownloading dateparser-1.2.2-py3-none-any.whl (315 kB)\n",
            "\u001b[2K   \u001b[90m━━━━━━━━━━━━━━━━━━━━━━━━━━━━━━━━━━━━━━━━\u001b[0m \u001b[32m315.5/315.5 kB\u001b[0m \u001b[31m20.7 MB/s\u001b[0m eta \u001b[36m0:00:00\u001b[0m\n",
            "\u001b[?25hDownloading tld-0.13.1-py2.py3-none-any.whl (274 kB)\n",
            "\u001b[2K   \u001b[90m━━━━━━━━━━━━━━━━━━━━━━━━━━━━━━━━━━━━━━━━\u001b[0m \u001b[32m274.7/274.7 kB\u001b[0m \u001b[31m17.7 MB/s\u001b[0m eta \u001b[36m0:00:00\u001b[0m\n",
            "\u001b[?25hDownloading lxml_html_clean-0.4.2-py3-none-any.whl (14 kB)\n",
            "Building wheels for collected packages: graphbrain, asciitree\n",
            "  Building wheel for graphbrain (pyproject.toml) ... \u001b[?25l\u001b[?25hdone\n",
            "  Created wheel for graphbrain: filename=graphbrain-0.7.0.dev0-cp311-cp311-linux_x86_64.whl size=5902559 sha256=1740290ee2e865ed98be4d865956c6457bfcb35cdb746c49474368a8a203a109\n",
            "  Stored in directory: /tmp/pip-ephem-wheel-cache-lop9w8o1/wheels/70/cb/21/d7a0e9fcda6950060fbd30be06bd96a580cc5289e6b70f6583\n",
            "  Building wheel for asciitree (setup.py) ... \u001b[?25l\u001b[?25hdone\n",
            "  Created wheel for asciitree: filename=asciitree-0.3.3-py3-none-any.whl size=5031 sha256=413e394ec1957d3a5cc5cb72071ec4f9c99fe82242e5c02b73c158ada4e89643\n",
            "  Stored in directory: /root/.cache/pip/wheels/71/c1/da/23077eb3b87d24d6f3852ed1ed1a1ac2d3c885ad6ebd2b4a07\n",
            "Successfully built graphbrain asciitree\n",
            "Installing collected packages: plyvel, asciitree, tld, spacy-alignments, nvidia-nvjitlink-cu12, nvidia-curand-cu12, nvidia-cufft-cu12, nvidia-cuda-runtime-cu12, nvidia-cuda-nvrtc-cu12, nvidia-cuda-cupti-cu12, nvidia-cublas-cu12, mwparserfromhell, lxml_html_clean, jedi, nvidia-cusparse-cu12, nvidia-cudnn-cu12, dateparser, courlan, nvidia-cusolver-cu12, justext, htmldate, transformers, trafilatura, spacy-transformers, graphbrain\n",
            "  Attempting uninstall: nvidia-nvjitlink-cu12\n",
            "    Found existing installation: nvidia-nvjitlink-cu12 12.5.82\n",
            "    Uninstalling nvidia-nvjitlink-cu12-12.5.82:\n",
            "      Successfully uninstalled nvidia-nvjitlink-cu12-12.5.82\n",
            "  Attempting uninstall: nvidia-curand-cu12\n",
            "    Found existing installation: nvidia-curand-cu12 10.3.6.82\n",
            "    Uninstalling nvidia-curand-cu12-10.3.6.82:\n",
            "      Successfully uninstalled nvidia-curand-cu12-10.3.6.82\n",
            "  Attempting uninstall: nvidia-cufft-cu12\n",
            "    Found existing installation: nvidia-cufft-cu12 11.2.3.61\n",
            "    Uninstalling nvidia-cufft-cu12-11.2.3.61:\n",
            "      Successfully uninstalled nvidia-cufft-cu12-11.2.3.61\n",
            "  Attempting uninstall: nvidia-cuda-runtime-cu12\n",
            "    Found existing installation: nvidia-cuda-runtime-cu12 12.5.82\n",
            "    Uninstalling nvidia-cuda-runtime-cu12-12.5.82:\n",
            "      Successfully uninstalled nvidia-cuda-runtime-cu12-12.5.82\n",
            "  Attempting uninstall: nvidia-cuda-nvrtc-cu12\n",
            "    Found existing installation: nvidia-cuda-nvrtc-cu12 12.5.82\n",
            "    Uninstalling nvidia-cuda-nvrtc-cu12-12.5.82:\n",
            "      Successfully uninstalled nvidia-cuda-nvrtc-cu12-12.5.82\n",
            "  Attempting uninstall: nvidia-cuda-cupti-cu12\n",
            "    Found existing installation: nvidia-cuda-cupti-cu12 12.5.82\n",
            "    Uninstalling nvidia-cuda-cupti-cu12-12.5.82:\n",
            "      Successfully uninstalled nvidia-cuda-cupti-cu12-12.5.82\n",
            "  Attempting uninstall: nvidia-cublas-cu12\n",
            "    Found existing installation: nvidia-cublas-cu12 12.5.3.2\n",
            "    Uninstalling nvidia-cublas-cu12-12.5.3.2:\n",
            "      Successfully uninstalled nvidia-cublas-cu12-12.5.3.2\n",
            "  Attempting uninstall: nvidia-cusparse-cu12\n",
            "    Found existing installation: nvidia-cusparse-cu12 12.5.1.3\n",
            "    Uninstalling nvidia-cusparse-cu12-12.5.1.3:\n",
            "      Successfully uninstalled nvidia-cusparse-cu12-12.5.1.3\n",
            "  Attempting uninstall: nvidia-cudnn-cu12\n",
            "    Found existing installation: nvidia-cudnn-cu12 9.3.0.75\n",
            "    Uninstalling nvidia-cudnn-cu12-9.3.0.75:\n",
            "      Successfully uninstalled nvidia-cudnn-cu12-9.3.0.75\n",
            "  Attempting uninstall: nvidia-cusolver-cu12\n",
            "    Found existing installation: nvidia-cusolver-cu12 11.6.3.83\n",
            "    Uninstalling nvidia-cusolver-cu12-11.6.3.83:\n",
            "      Successfully uninstalled nvidia-cusolver-cu12-11.6.3.83\n",
            "  Attempting uninstall: transformers\n",
            "    Found existing installation: transformers 4.53.2\n",
            "    Uninstalling transformers-4.53.2:\n",
            "      Successfully uninstalled transformers-4.53.2\n",
            "Successfully installed asciitree-0.3.3 courlan-1.3.2 dateparser-1.2.2 graphbrain-0.7.0.dev0 htmldate-1.9.3 jedi-0.19.2 justext-3.0.2 lxml_html_clean-0.4.2 mwparserfromhell-0.7.2 nvidia-cublas-cu12-12.4.5.8 nvidia-cuda-cupti-cu12-12.4.127 nvidia-cuda-nvrtc-cu12-12.4.127 nvidia-cuda-runtime-cu12-12.4.127 nvidia-cudnn-cu12-9.1.0.70 nvidia-cufft-cu12-11.2.1.3 nvidia-curand-cu12-10.3.5.147 nvidia-cusolver-cu12-11.6.1.9 nvidia-cusparse-cu12-12.3.1.170 nvidia-nvjitlink-cu12-12.4.127 plyvel-1.5.1 spacy-alignments-0.9.2 spacy-transformers-1.3.9 tld-0.13.1 trafilatura-2.0.0 transformers-4.49.0\n",
            "Collecting en-core-web-lg==3.8.0\n",
            "  Downloading https://github.com/explosion/spacy-models/releases/download/en_core_web_lg-3.8.0/en_core_web_lg-3.8.0-py3-none-any.whl (400.7 MB)\n",
            "\u001b[2K     \u001b[90m━━━━━━━━━━━━━━━━━━━━━━━━━━━━━━━━━━━━━━━\u001b[0m \u001b[32m400.7/400.7 MB\u001b[0m \u001b[31m1.4 MB/s\u001b[0m eta \u001b[36m0:00:00\u001b[0m\n",
            "\u001b[?25hInstalling collected packages: en-core-web-lg\n",
            "Successfully installed en-core-web-lg-3.8.0\n",
            "\u001b[38;5;2m✔ Download and installation successful\u001b[0m\n",
            "You can now load the package via spacy.load('en_core_web_lg')\n",
            "\u001b[38;5;3m⚠ Restart to reload dependencies\u001b[0m\n",
            "If you are in a Jupyter or Colab notebook, you may need to restart Python in\n",
            "order to load all the package's dependencies. You can do this by selecting the\n",
            "'Restart kernel' or 'Restart runtime' option.\n"
          ]
        }
      ]
    },
    {
      "cell_type": "markdown",
      "metadata": {
        "id": "8KDFuV4rqDLt"
      },
      "source": [
        "# Config"
      ]
    },
    {
      "cell_type": "code",
      "execution_count": 2,
      "metadata": {
        "ExecuteTime": {
          "end_time": "2020-05-27T14:56:29.034490Z",
          "start_time": "2020-05-27T14:56:26.519729Z"
        },
        "id": "VSK7-MKaqDLu"
      },
      "outputs": [],
      "source": [
        "from google.colab import files\n",
        "from graphbrain.notebook import *\n",
        "from graphbrain.parsers import *\n",
        "from graphbrain import hedge"
      ]
    },
    {
      "cell_type": "code",
      "source": [
        "uploaded = files.upload()\n",
        "for filename in uploaded.keys():\n",
        "    print(f'Uploaded file \"{filename}\" with length {len(uploaded[filename])} bytes')\n",
        "    text = uploaded[filename].decode('utf-8')"
      ],
      "metadata": {
        "colab": {
          "base_uri": "https://localhost:8080/",
          "height": 89
        },
        "id": "ZjGFFOUpxdbr",
        "outputId": "6962e1c6-3082-45d2-87ef-d3e792a801f5"
      },
      "execution_count": 3,
      "outputs": [
        {
          "output_type": "display_data",
          "data": {
            "text/plain": [
              "<IPython.core.display.HTML object>"
            ],
            "text/html": [
              "\n",
              "     <input type=\"file\" id=\"files-99a489b7-293a-428d-9676-8e6df0f2d53c\" name=\"files[]\" multiple disabled\n",
              "        style=\"border:none\" />\n",
              "     <output id=\"result-99a489b7-293a-428d-9676-8e6df0f2d53c\">\n",
              "      Upload widget is only available when the cell has been executed in the\n",
              "      current browser session. Please rerun this cell to enable.\n",
              "      </output>\n",
              "      <script>// Copyright 2017 Google LLC\n",
              "//\n",
              "// Licensed under the Apache License, Version 2.0 (the \"License\");\n",
              "// you may not use this file except in compliance with the License.\n",
              "// You may obtain a copy of the License at\n",
              "//\n",
              "//      http://www.apache.org/licenses/LICENSE-2.0\n",
              "//\n",
              "// Unless required by applicable law or agreed to in writing, software\n",
              "// distributed under the License is distributed on an \"AS IS\" BASIS,\n",
              "// WITHOUT WARRANTIES OR CONDITIONS OF ANY KIND, either express or implied.\n",
              "// See the License for the specific language governing permissions and\n",
              "// limitations under the License.\n",
              "\n",
              "/**\n",
              " * @fileoverview Helpers for google.colab Python module.\n",
              " */\n",
              "(function(scope) {\n",
              "function span(text, styleAttributes = {}) {\n",
              "  const element = document.createElement('span');\n",
              "  element.textContent = text;\n",
              "  for (const key of Object.keys(styleAttributes)) {\n",
              "    element.style[key] = styleAttributes[key];\n",
              "  }\n",
              "  return element;\n",
              "}\n",
              "\n",
              "// Max number of bytes which will be uploaded at a time.\n",
              "const MAX_PAYLOAD_SIZE = 100 * 1024;\n",
              "\n",
              "function _uploadFiles(inputId, outputId) {\n",
              "  const steps = uploadFilesStep(inputId, outputId);\n",
              "  const outputElement = document.getElementById(outputId);\n",
              "  // Cache steps on the outputElement to make it available for the next call\n",
              "  // to uploadFilesContinue from Python.\n",
              "  outputElement.steps = steps;\n",
              "\n",
              "  return _uploadFilesContinue(outputId);\n",
              "}\n",
              "\n",
              "// This is roughly an async generator (not supported in the browser yet),\n",
              "// where there are multiple asynchronous steps and the Python side is going\n",
              "// to poll for completion of each step.\n",
              "// This uses a Promise to block the python side on completion of each step,\n",
              "// then passes the result of the previous step as the input to the next step.\n",
              "function _uploadFilesContinue(outputId) {\n",
              "  const outputElement = document.getElementById(outputId);\n",
              "  const steps = outputElement.steps;\n",
              "\n",
              "  const next = steps.next(outputElement.lastPromiseValue);\n",
              "  return Promise.resolve(next.value.promise).then((value) => {\n",
              "    // Cache the last promise value to make it available to the next\n",
              "    // step of the generator.\n",
              "    outputElement.lastPromiseValue = value;\n",
              "    return next.value.response;\n",
              "  });\n",
              "}\n",
              "\n",
              "/**\n",
              " * Generator function which is called between each async step of the upload\n",
              " * process.\n",
              " * @param {string} inputId Element ID of the input file picker element.\n",
              " * @param {string} outputId Element ID of the output display.\n",
              " * @return {!Iterable<!Object>} Iterable of next steps.\n",
              " */\n",
              "function* uploadFilesStep(inputId, outputId) {\n",
              "  const inputElement = document.getElementById(inputId);\n",
              "  inputElement.disabled = false;\n",
              "\n",
              "  const outputElement = document.getElementById(outputId);\n",
              "  outputElement.innerHTML = '';\n",
              "\n",
              "  const pickedPromise = new Promise((resolve) => {\n",
              "    inputElement.addEventListener('change', (e) => {\n",
              "      resolve(e.target.files);\n",
              "    });\n",
              "  });\n",
              "\n",
              "  const cancel = document.createElement('button');\n",
              "  inputElement.parentElement.appendChild(cancel);\n",
              "  cancel.textContent = 'Cancel upload';\n",
              "  const cancelPromise = new Promise((resolve) => {\n",
              "    cancel.onclick = () => {\n",
              "      resolve(null);\n",
              "    };\n",
              "  });\n",
              "\n",
              "  // Wait for the user to pick the files.\n",
              "  const files = yield {\n",
              "    promise: Promise.race([pickedPromise, cancelPromise]),\n",
              "    response: {\n",
              "      action: 'starting',\n",
              "    }\n",
              "  };\n",
              "\n",
              "  cancel.remove();\n",
              "\n",
              "  // Disable the input element since further picks are not allowed.\n",
              "  inputElement.disabled = true;\n",
              "\n",
              "  if (!files) {\n",
              "    return {\n",
              "      response: {\n",
              "        action: 'complete',\n",
              "      }\n",
              "    };\n",
              "  }\n",
              "\n",
              "  for (const file of files) {\n",
              "    const li = document.createElement('li');\n",
              "    li.append(span(file.name, {fontWeight: 'bold'}));\n",
              "    li.append(span(\n",
              "        `(${file.type || 'n/a'}) - ${file.size} bytes, ` +\n",
              "        `last modified: ${\n",
              "            file.lastModifiedDate ? file.lastModifiedDate.toLocaleDateString() :\n",
              "                                    'n/a'} - `));\n",
              "    const percent = span('0% done');\n",
              "    li.appendChild(percent);\n",
              "\n",
              "    outputElement.appendChild(li);\n",
              "\n",
              "    const fileDataPromise = new Promise((resolve) => {\n",
              "      const reader = new FileReader();\n",
              "      reader.onload = (e) => {\n",
              "        resolve(e.target.result);\n",
              "      };\n",
              "      reader.readAsArrayBuffer(file);\n",
              "    });\n",
              "    // Wait for the data to be ready.\n",
              "    let fileData = yield {\n",
              "      promise: fileDataPromise,\n",
              "      response: {\n",
              "        action: 'continue',\n",
              "      }\n",
              "    };\n",
              "\n",
              "    // Use a chunked sending to avoid message size limits. See b/62115660.\n",
              "    let position = 0;\n",
              "    do {\n",
              "      const length = Math.min(fileData.byteLength - position, MAX_PAYLOAD_SIZE);\n",
              "      const chunk = new Uint8Array(fileData, position, length);\n",
              "      position += length;\n",
              "\n",
              "      const base64 = btoa(String.fromCharCode.apply(null, chunk));\n",
              "      yield {\n",
              "        response: {\n",
              "          action: 'append',\n",
              "          file: file.name,\n",
              "          data: base64,\n",
              "        },\n",
              "      };\n",
              "\n",
              "      let percentDone = fileData.byteLength === 0 ?\n",
              "          100 :\n",
              "          Math.round((position / fileData.byteLength) * 100);\n",
              "      percent.textContent = `${percentDone}% done`;\n",
              "\n",
              "    } while (position < fileData.byteLength);\n",
              "  }\n",
              "\n",
              "  // All done.\n",
              "  yield {\n",
              "    response: {\n",
              "      action: 'complete',\n",
              "    }\n",
              "  };\n",
              "}\n",
              "\n",
              "scope.google = scope.google || {};\n",
              "scope.google.colab = scope.google.colab || {};\n",
              "scope.google.colab._files = {\n",
              "  _uploadFiles,\n",
              "  _uploadFilesContinue,\n",
              "};\n",
              "})(self);\n",
              "</script> "
            ]
          },
          "metadata": {}
        },
        {
          "output_type": "stream",
          "name": "stdout",
          "text": [
            "Saving bee20script.txt to bee20script.txt\n",
            "Uploaded file \"bee20script.txt\" with length 49474 bytes\n"
          ]
        }
      ]
    },
    {
      "cell_type": "code",
      "execution_count": 4,
      "metadata": {
        "ExecuteTime": {
          "end_time": "2020-05-27T14:57:00.221073Z",
          "start_time": "2020-05-27T14:56:29.050278Z"
        },
        "colab": {
          "base_uri": "https://localhost:8080/"
        },
        "id": "EnHaTy2nqDLv",
        "outputId": "07dc4db5-d64b-4cbe-8805-0a29052d9060"
      },
      "outputs": [
        {
          "output_type": "stream",
          "name": "stdout",
          "text": [
            "Using language model: en_core_web_lg\n"
          ]
        }
      ],
      "source": [
        "# create the parser object\n",
        "parser = create_parser(lang='en')\n",
        "style = 'indented'  # possible values: 'indented', 'compact' and 'oneline'\n",
        "tree = False"
      ]
    },
    {
      "cell_type": "markdown",
      "source": [
        "# Test Parsing"
      ],
      "metadata": {
        "id": "tyC0dqSRxmp1"
      }
    },
    {
      "cell_type": "code",
      "source": [
        "parse_result = parser.parse(text[:5000])"
      ],
      "metadata": {
        "id": "dmZ6rcji08YU"
      },
      "execution_count": 20,
      "outputs": []
    },
    {
      "cell_type": "code",
      "source": [
        "for i in range(10):\n",
        "  example_parse = parse_result['parses'][i]\n",
        "\n",
        "  # if tree:\n",
        "  #     print_tree(example_parse['spacy_sentence'].root)\n",
        "  # show(example_parse['main_edge'], style=style)\n",
        "\n",
        "  example_hyperedge = hedge(example_parse['main_edge'])\n",
        "  vblocks(example_hyperedge)"
      ],
      "metadata": {
        "colab": {
          "base_uri": "https://localhost:8080/",
          "height": 1000
        },
        "id": "g0XeKbQDxxh0",
        "outputId": "f2238988-c617-4c3a-a5b1-2d02c0c6000a"
      },
      "execution_count": 21,
      "outputs": [
        {
          "output_type": "display_data",
          "data": {
            "text/plain": [
              "<IPython.core.display.HTML object>"
            ],
            "text/html": [
              "<div style=\"background-color:#fcfcfc; padding:50px\"><div style=\"display:table;border:2px solid #fdf6e3;background-color:#eee8d5;border-radius:10px;padding:3px\"><div style=\"display:table-row\"><div style=\"display: table-cell; vertical-align: top;background-color:#eee8d5;padding:5px\"><div style=\"padding:5px;background-color:#b58900;border:2px solid #fdf6e3;border-radius:10px\"><span style=\"color:#fdf6e3;font-weight:bold\">:</span><span style=\"color:#eee8d5;font-weight:lighter\">/J</span></div></div><div style=\"display: table-cell; vertical-align: top;background-color:#eee8d5;padding:5px\"><div style=\"display:table-row\"><div><div style=\"display:table;border:2px solid #fdf6e3;background-color:#eee8d5;border-radius:10px;padding:3px\"><div style=\"display:table-row\"><div style=\"display: table-cell; vertical-align: top;background-color:#eee8d5;padding:5px\"><div style=\"display:table;border:2px solid #fdf6e3;background-color:#cb4b16;border-radius:10px;padding:3px\"><div style=\"display:table-row\"><div style=\"display: table-cell; vertical-align: middle;background-color:#cb4b16;padding-left:5px\"><div style=\"padding:5px;background-color:#dc322f;border:2px solid #fdf6e3;border-radius:10px\"><span style=\"color:#fdf6e3;font-weight:bold\">there</span><span style=\"color:#eee8d5;font-weight:lighter\">/M</span></div></div><div style=\"display: table-cell; vertical-align: middle;background-color:#cb4b16;padding:5px\"><div style=\"display:table-row\"><div style=\"display: table-cell;vertical-align: middle\"><div style=\"padding:5px;background-color:#cb4b16;border:2px solid #fdf6e3;border-radius:10px\"><span style=\"color:#fdf6e3;font-weight:bold\">is</span><span style=\"color:#eee8d5;font-weight:lighter\">/P.xc</span></div></div></div></div></div></div></div><div style=\"display: table-cell; vertical-align: top;background-color:#eee8d5;padding:5px\"><div style=\"display:table-row\"><div><div style=\"display:table;border:2px solid #fdf6e3;background-color:#6c71c4;border-radius:10px;padding:3px\"><div style=\"display:table-row\"><div style=\"display: table-cell; vertical-align: middle;background-color:#6c71c4;padding-left:5px\"><div style=\"padding:5px;background-color:#d33682;border:2px solid #fdf6e3;border-radius:10px\"><span style=\"color:#fdf6e3;font-weight:bold\">according</span><span style=\"color:#eee8d5;font-weight:lighter\">/T</span></div></div><div style=\"display: table-cell; vertical-align: middle;background-color:#6c71c4;padding:5px\"><div style=\"display:table-row\"><div style=\"display: table-cell;vertical-align: middle\"><div style=\"display:table;border:2px solid #fdf6e3;background-color:#268bd2;border-radius:10px;padding:3px\"><div style=\"display:table-row\"><div style=\"display: table-cell; vertical-align: middle;background-color:#268bd2;padding-left:5px\"><div style=\"padding:5px;background-color:#dc322f;border:2px solid #fdf6e3;border-radius:10px\"><span style=\"color:#fdf6e3;font-weight:bold\">to</span><span style=\"color:#eee8d5;font-weight:lighter\">/M</span></div></div><div style=\"display: table-cell; vertical-align: middle;background-color:#268bd2;padding:5px\"><div style=\"display:table-row\"><div style=\"display: table-cell;vertical-align: middle\"><div style=\"display:table;border:2px solid #fdf6e3;background-color:#268bd2;border-radius:10px;padding:3px\"><div style=\"display:table-row\"><div style=\"display: table-cell; vertical-align: top;background-color:#268bd2;padding:5px\"><div style=\"padding:5px;background-color:#859900;border:2px solid #fdf6e3;border-radius:10px\"><span style=\"color:#fdf6e3;font-weight:bold\">of</span><span style=\"color:#eee8d5;font-weight:lighter\">/B.ma</span></div></div><div style=\"display: table-cell; vertical-align: top;background-color:#268bd2;padding:5px\"><div style=\"display:table-row\"><div><div style=\"display:table;border:2px solid #fdf6e3;background-color:#268bd2;border-radius:10px;padding:3px\"><div style=\"display:table-row\"><div style=\"display: table-cell; vertical-align: middle;background-color:#268bd2;padding-left:5px\"><div style=\"padding:5px;background-color:#dc322f;border:2px solid #fdf6e3;border-radius:10px\"><span style=\"color:#fdf6e3;font-weight:bold\">all</span><span style=\"color:#eee8d5;font-weight:lighter\">/M</span></div></div><div style=\"display: table-cell; vertical-align: middle;background-color:#268bd2;padding:5px\"><div style=\"display:table-row\"><div style=\"display: table-cell;vertical-align: middle\"><div style=\"display:table;border:2px solid #fdf6e3;background-color:#268bd2;border-radius:10px;padding:3px\"><div style=\"display:table-row\"><div style=\"display: table-cell; vertical-align: middle;background-color:#268bd2;padding-left:5px\"><div style=\"padding:5px;background-color:#dc322f;border:2px solid #fdf6e3;border-radius:10px\"><span style=\"color:#fdf6e3;font-weight:bold\">known</span><span style=\"color:#eee8d5;font-weight:lighter\">/M</span></div></div><div style=\"display: table-cell; vertical-align: middle;background-color:#268bd2;padding:5px\"><div style=\"display:table-row\"><div style=\"display: table-cell;vertical-align: middle\"><div style=\"padding:5px;background-color:#268bd2;border:2px solid #fdf6e3;border-radius:10px\"><span style=\"color:#fdf6e3;font-weight:bold\">laws</span><span style=\"color:#eee8d5;font-weight:lighter\">/C</span></div></div></div></div></div></div></div></div></div></div></div></div><div style=\"height:5px\"></div><div><div style=\"padding:5px;background-color:#268bd2;border:2px solid #fdf6e3;border-radius:10px\"><span style=\"color:#fdf6e3;font-weight:bold\">aviation</span><span style=\"color:#eee8d5;font-weight:lighter\">/C</span></div></div></div></div></div></div></div></div></div></div></div></div></div></div></div></div></div><div style=\"height:5px\"></div><div><div style=\"display:table;border:2px solid #fdf6e3;background-color:#268bd2;border-radius:10px;padding:3px\"><div style=\"display:table-row\"><div style=\"display: table-cell; vertical-align: middle;background-color:#268bd2;padding-left:5px\"><div style=\"padding:5px;background-color:#dc322f;border:2px solid #fdf6e3;border-radius:10px\"><span style=\"color:#fdf6e3;font-weight:bold\">no</span><span style=\"color:#eee8d5;font-weight:lighter\">/M</span></div></div><div style=\"display: table-cell; vertical-align: middle;background-color:#268bd2;padding:5px\"><div style=\"display:table-row\"><div style=\"display: table-cell;vertical-align: middle\"><div style=\"padding:5px;background-color:#268bd2;border:2px solid #fdf6e3;border-radius:10px\"><span style=\"color:#fdf6e3;font-weight:bold\">way</span><span style=\"color:#eee8d5;font-weight:lighter\">/C</span></div></div></div></div></div></div></div></div></div></div></div></div><div style=\"height:5px\"></div><div><div style=\"display:table;border:2px solid #fdf6e3;background-color:#eee8d5;border-radius:10px;padding:3px\"><div style=\"display:table-row\"><div style=\"display: table-cell; vertical-align: top;background-color:#eee8d5;padding:5px\"><div style=\"display:table;border:2px solid #fdf6e3;background-color:#cb4b16;border-radius:10px;padding:3px\"><div style=\"display:table-row\"><div style=\"display: table-cell; vertical-align: middle;background-color:#cb4b16;padding-left:5px\"><div style=\"padding:5px;background-color:#dc322f;border:2px solid #fdf6e3;border-radius:10px\"><span style=\"color:#fdf6e3;font-weight:bold\">should</span><span style=\"color:#eee8d5;font-weight:lighter\">/M</span></div></div><div style=\"display: table-cell; vertical-align: middle;background-color:#cb4b16;padding:5px\"><div style=\"display:table-row\"><div style=\"display: table-cell;vertical-align: middle\"><div style=\"padding:5px;background-color:#cb4b16;border:2px solid #fdf6e3;border-radius:10px\"><span style=\"color:#fdf6e3;font-weight:bold\">be</span><span style=\"color:#eee8d5;font-weight:lighter\">/P.sc</span></div></div></div></div></div></div></div><div style=\"display: table-cell; vertical-align: top;background-color:#eee8d5;padding:5px\"><div style=\"display:table-row\"><div><div style=\"display:table;border:2px solid #fdf6e3;background-color:#268bd2;border-radius:10px;padding:3px\"><div style=\"display:table-row\"><div style=\"display: table-cell; vertical-align: middle;background-color:#268bd2;padding-left:5px\"><div style=\"padding:5px;background-color:#dc322f;border:2px solid #fdf6e3;border-radius:10px\"><span style=\"color:#fdf6e3;font-weight:bold\">a</span><span style=\"color:#eee8d5;font-weight:lighter\">/M</span></div></div><div style=\"display: table-cell; vertical-align: middle;background-color:#268bd2;padding:5px\"><div style=\"display:table-row\"><div style=\"display: table-cell;vertical-align: middle\"><div style=\"padding:5px;background-color:#268bd2;border:2px solid #fdf6e3;border-radius:10px\"><span style=\"color:#fdf6e3;font-weight:bold\">bee</span><span style=\"color:#eee8d5;font-weight:lighter\">/C</span></div></div></div></div></div></div></div><div style=\"height:5px\"></div><div><div style=\"display:table;border:2px solid #fdf6e3;background-color:#eee8d5;border-radius:10px;padding:3px\"><div style=\"display:table-row\"><div style=\"display: table-cell; vertical-align: middle;background-color:#eee8d5;padding-left:5px\"><div style=\"display:table;border:2px solid #fdf6e3;background-color:#cb4b16;border-radius:10px;padding:3px\"><div style=\"display:table-row\"><div style=\"display: table-cell; vertical-align: middle;background-color:#cb4b16;padding-left:5px\"><div style=\"padding:5px;background-color:#dc322f;border:2px solid #fdf6e3;border-radius:10px\"><span style=\"color:#fdf6e3;font-weight:bold\">to</span><span style=\"color:#eee8d5;font-weight:lighter\">/M</span></div></div><div style=\"display: table-cell; vertical-align: middle;background-color:#cb4b16;padding:5px\"><div style=\"display:table-row\"><div style=\"display: table-cell;vertical-align: middle\"><div style=\"padding:5px;background-color:#cb4b16;border:2px solid #fdf6e3;border-radius:10px\"><span style=\"color:#fdf6e3;font-weight:bold\">fly</span><span style=\"color:#eee8d5;font-weight:lighter\">/P.c</span></div></div></div></div></div></div></div><div style=\"display: table-cell; vertical-align: middle;background-color:#eee8d5;padding:5px\"><div style=\"display:table-row\"><div style=\"display: table-cell;vertical-align: middle\"><div style=\"padding:5px;background-color:#268bd2;border:2px solid #fdf6e3;border-radius:10px\"><span style=\"color:#fdf6e3;font-weight:bold\">able</span><span style=\"color:#eee8d5;font-weight:lighter\">/C</span></div></div></div></div></div></div></div></div></div></div></div></div></div></div></div></div></div>"
            ]
          },
          "metadata": {}
        },
        {
          "output_type": "display_data",
          "data": {
            "text/plain": [
              "<IPython.core.display.HTML object>"
            ],
            "text/html": [
              "<div style=\"background-color:#fcfcfc; padding:50px\"><div style=\"display:table;border:2px solid #fdf6e3;background-color:#eee8d5;border-radius:10px;padding:3px\"><div style=\"display:table-row\"><div style=\"display: table-cell; vertical-align: top;background-color:#eee8d5;padding:5px\"><div style=\"padding:5px;background-color:#cb4b16;border:2px solid #fdf6e3;border-radius:10px\"><span style=\"color:#fdf6e3;font-weight:bold\">are</span><span style=\"color:#eee8d5;font-weight:lighter\">/P.sc</span></div></div><div style=\"display: table-cell; vertical-align: top;background-color:#eee8d5;padding:5px\"><div style=\"display:table-row\"><div><div style=\"display:table;border:2px solid #fdf6e3;background-color:#268bd2;border-radius:10px;padding:3px\"><div style=\"display:table-row\"><div style=\"display: table-cell; vertical-align: middle;background-color:#268bd2;padding-left:5px\"><div style=\"padding:5px;background-color:#dc322f;border:2px solid #fdf6e3;border-radius:10px\"><span style=\"color:#fdf6e3;font-weight:bold\">its</span><span style=\"color:#eee8d5;font-weight:lighter\">/M</span></div></div><div style=\"display: table-cell; vertical-align: middle;background-color:#268bd2;padding:5px\"><div style=\"display:table-row\"><div style=\"display: table-cell;vertical-align: middle\"><div style=\"padding:5px;background-color:#268bd2;border:2px solid #fdf6e3;border-radius:10px\"><span style=\"color:#fdf6e3;font-weight:bold\">wings</span><span style=\"color:#eee8d5;font-weight:lighter\">/C</span></div></div></div></div></div></div></div><div style=\"height:5px\"></div><div><div style=\"display:table;border:2px solid #fdf6e3;background-color:#268bd2;border-radius:10px;padding:3px\"><div style=\"display:table-row\"><div style=\"display: table-cell; vertical-align: middle;background-color:#268bd2;padding-left:5px\"><div style=\"padding:5px;background-color:#dc322f;border:2px solid #fdf6e3;border-radius:10px\"><span style=\"color:#fdf6e3;font-weight:bold\">too</span><span style=\"color:#eee8d5;font-weight:lighter\">/M</span></div></div><div style=\"display: table-cell; vertical-align: middle;background-color:#268bd2;padding:5px\"><div style=\"display:table-row\"><div style=\"display: table-cell;vertical-align: middle\"><div style=\"display:table;border:2px solid #fdf6e3;background-color:#268bd2;border-radius:10px;padding:3px\"><div style=\"display:table-row\"><div style=\"display: table-cell; vertical-align: top;background-color:#268bd2;padding:5px\"><div style=\"padding:5px;background-color:#b58900;border:2px solid #fdf6e3;border-radius:10px\"><span style=\"color:#fdf6e3;font-weight:bold\">:</span><span style=\"color:#eee8d5;font-weight:lighter\">/J</span></div></div><div style=\"display: table-cell; vertical-align: top;background-color:#268bd2;padding:5px\"><div style=\"display:table-row\"><div><div style=\"padding:5px;background-color:#268bd2;border:2px solid #fdf6e3;border-radius:10px\"><span style=\"color:#fdf6e3;font-weight:bold\">small</span><span style=\"color:#eee8d5;font-weight:lighter\">/C</span></div></div><div style=\"height:5px\"></div><div><div style=\"display:table;border:2px solid #fdf6e3;background-color:#eee8d5;border-radius:10px;padding:3px\"><div style=\"display:table-row\"><div style=\"display: table-cell; vertical-align: top;background-color:#eee8d5;padding:5px\"><div style=\"display:table;border:2px solid #fdf6e3;background-color:#cb4b16;border-radius:10px;padding:3px\"><div style=\"display:table-row\"><div style=\"display: table-cell; vertical-align: middle;background-color:#cb4b16;padding-left:5px\"><div style=\"padding:5px;background-color:#dc322f;border:2px solid #fdf6e3;border-radius:10px\"><span style=\"color:#fdf6e3;font-weight:bold\">to</span><span style=\"color:#eee8d5;font-weight:lighter\">/M</span></div></div><div style=\"display: table-cell; vertical-align: middle;background-color:#cb4b16;padding:5px\"><div style=\"display:table-row\"><div style=\"display: table-cell;vertical-align: middle\"><div style=\"padding:5px;background-color:#cb4b16;border:2px solid #fdf6e3;border-radius:10px\"><span style=\"color:#fdf6e3;font-weight:bold\">get</span><span style=\"color:#eee8d5;font-weight:lighter\">/P.ox</span></div></div></div></div></div></div></div><div style=\"display: table-cell; vertical-align: top;background-color:#eee8d5;padding:5px\"><div style=\"display:table-row\"><div><div style=\"display:table;border:2px solid #fdf6e3;background-color:#268bd2;border-radius:10px;padding:3px\"><div style=\"display:table-row\"><div style=\"display: table-cell; vertical-align: middle;background-color:#268bd2;padding-left:5px\"><div style=\"padding:5px;background-color:#dc322f;border:2px solid #fdf6e3;border-radius:10px\"><span style=\"color:#fdf6e3;font-weight:bold\">its</span><span style=\"color:#eee8d5;font-weight:lighter\">/M</span></div></div><div style=\"display: table-cell; vertical-align: middle;background-color:#268bd2;padding:5px\"><div style=\"display:table-row\"><div style=\"display: table-cell;vertical-align: middle\"><div style=\"display:table;border:2px solid #fdf6e3;background-color:#268bd2;border-radius:10px;padding:3px\"><div style=\"display:table-row\"><div style=\"display: table-cell; vertical-align: middle;background-color:#268bd2;padding-left:5px\"><div style=\"padding:5px;background-color:#dc322f;border:2px solid #fdf6e3;border-radius:10px\"><span style=\"color:#fdf6e3;font-weight:bold\">fat</span><span style=\"color:#eee8d5;font-weight:lighter\">/M</span></div></div><div style=\"display: table-cell; vertical-align: middle;background-color:#268bd2;padding:5px\"><div style=\"display:table-row\"><div style=\"display: table-cell;vertical-align: middle\"><div style=\"display:table;border:2px solid #fdf6e3;background-color:#268bd2;border-radius:10px;padding:3px\"><div style=\"display:table-row\"><div style=\"display: table-cell; vertical-align: middle;background-color:#268bd2;padding-left:5px\"><div style=\"padding:5px;background-color:#dc322f;border:2px solid #fdf6e3;border-radius:10px\"><span style=\"color:#fdf6e3;font-weight:bold\">little</span><span style=\"color:#eee8d5;font-weight:lighter\">/M</span></div></div><div style=\"display: table-cell; vertical-align: middle;background-color:#268bd2;padding:5px\"><div style=\"display:table-row\"><div style=\"display: table-cell;vertical-align: middle\"><div style=\"padding:5px;background-color:#268bd2;border:2px solid #fdf6e3;border-radius:10px\"><span style=\"color:#fdf6e3;font-weight:bold\">body</span><span style=\"color:#eee8d5;font-weight:lighter\">/C</span></div></div></div></div></div></div></div></div></div></div></div></div></div></div></div></div></div><div style=\"height:5px\"></div><div><div style=\"display:table;border:2px solid #fdf6e3;background-color:#6c71c4;border-radius:10px;padding:3px\"><div style=\"display:table-row\"><div style=\"display: table-cell; vertical-align: middle;background-color:#6c71c4;padding-left:5px\"><div style=\"padding:5px;background-color:#d33682;border:2px solid #fdf6e3;border-radius:10px\"><span style=\"color:#fdf6e3;font-weight:bold\">off</span><span style=\"color:#eee8d5;font-weight:lighter\">/T</span></div></div><div style=\"display: table-cell; vertical-align: middle;background-color:#6c71c4;padding:5px\"><div style=\"display:table-row\"><div style=\"display: table-cell;vertical-align: middle\"><div style=\"display:table;border:2px solid #fdf6e3;background-color:#268bd2;border-radius:10px;padding:3px\"><div style=\"display:table-row\"><div style=\"display: table-cell; vertical-align: middle;background-color:#268bd2;padding-left:5px\"><div style=\"padding:5px;background-color:#dc322f;border:2px solid #fdf6e3;border-radius:10px\"><span style=\"color:#fdf6e3;font-weight:bold\">the</span><span style=\"color:#eee8d5;font-weight:lighter\">/M</span></div></div><div style=\"display: table-cell; vertical-align: middle;background-color:#268bd2;padding:5px\"><div style=\"display:table-row\"><div style=\"display: table-cell;vertical-align: middle\"><div style=\"padding:5px;background-color:#268bd2;border:2px solid #fdf6e3;border-radius:10px\"><span style=\"color:#fdf6e3;font-weight:bold\">ground</span><span style=\"color:#eee8d5;font-weight:lighter\">/C</span></div></div></div></div></div></div></div></div></div></div></div></div></div></div></div></div></div></div></div></div></div></div></div></div></div></div></div></div></div></div></div></div>"
            ]
          },
          "metadata": {}
        },
        {
          "output_type": "display_data",
          "data": {
            "text/plain": [
              "<IPython.core.display.HTML object>"
            ],
            "text/html": [
              "<div style=\"background-color:#fcfcfc; padding:50px\"><div style=\"display:table;border:2px solid #fdf6e3;background-color:#eee8d5;border-radius:10px;padding:3px\"><div style=\"display:table-row\"><div style=\"display: table-cell; vertical-align: top;background-color:#eee8d5;padding:5px\"><div style=\"padding:5px;background-color:#b58900;border:2px solid #fdf6e3;border-radius:10px\"><span style=\"color:#fdf6e3;font-weight:bold\">:</span><span style=\"color:#eee8d5;font-weight:lighter\">/J</span></div></div><div style=\"display: table-cell; vertical-align: top;background-color:#eee8d5;padding:5px\"><div style=\"display:table-row\"><div><div style=\"display:table;border:2px solid #fdf6e3;background-color:#eee8d5;border-radius:10px;padding:3px\"><div style=\"display:table-row\"><div style=\"display: table-cell; vertical-align: top;background-color:#eee8d5;padding:5px\"><div style=\"display:table;border:2px solid #fdf6e3;background-color:#cb4b16;border-radius:10px;padding:3px\"><div style=\"display:table-row\"><div style=\"display: table-cell; vertical-align: middle;background-color:#cb4b16;padding-left:5px\"><div style=\"padding:5px;background-color:#dc322f;border:2px solid #fdf6e3;border-radius:10px\"><span style=\"color:#fdf6e3;font-weight:bold\">anyway</span><span style=\"color:#eee8d5;font-weight:lighter\">/M</span></div></div><div style=\"display: table-cell; vertical-align: middle;background-color:#cb4b16;padding:5px\"><div style=\"display:table-row\"><div style=\"display: table-cell;vertical-align: middle\"><div style=\"padding:5px;background-color:#cb4b16;border:2px solid #fdf6e3;border-radius:10px\"><span style=\"color:#fdf6e3;font-weight:bold\">flies</span><span style=\"color:#eee8d5;font-weight:lighter\">/P.sxx</span></div></div></div></div></div></div></div><div style=\"display: table-cell; vertical-align: top;background-color:#eee8d5;padding:5px\"><div style=\"display:table-row\"><div><div style=\"display:table;border:2px solid #fdf6e3;background-color:#268bd2;border-radius:10px;padding:3px\"><div style=\"display:table-row\"><div style=\"display: table-cell; vertical-align: middle;background-color:#268bd2;padding-left:5px\"><div style=\"padding:5px;background-color:#dc322f;border:2px solid #fdf6e3;border-radius:10px\"><span style=\"color:#fdf6e3;font-weight:bold\">the</span><span style=\"color:#eee8d5;font-weight:lighter\">/M</span></div></div><div style=\"display: table-cell; vertical-align: middle;background-color:#268bd2;padding:5px\"><div style=\"display:table-row\"><div style=\"display: table-cell;vertical-align: middle\"><div style=\"padding:5px;background-color:#268bd2;border:2px solid #fdf6e3;border-radius:10px\"><span style=\"color:#fdf6e3;font-weight:bold\">bee</span><span style=\"color:#eee8d5;font-weight:lighter\">/C</span></div></div></div></div></div></div></div><div style=\"height:5px\"></div><div><div style=\"display:table;border:2px solid #fdf6e3;background-color:#6c71c4;border-radius:10px;padding:3px\"><div style=\"display:table-row\"><div style=\"display: table-cell; vertical-align: middle;background-color:#6c71c4;padding-left:5px\"><div style=\"padding:5px;background-color:#d33682;border:2px solid #fdf6e3;border-radius:10px\"><span style=\"color:#fdf6e3;font-weight:bold\">of</span><span style=\"color:#eee8d5;font-weight:lighter\">/T</span></div></div><div style=\"display: table-cell; vertical-align: middle;background-color:#6c71c4;padding:5px\"><div style=\"display:table-row\"><div style=\"display: table-cell;vertical-align: middle\"><div style=\"padding:5px;background-color:#268bd2;border:2px solid #fdf6e3;border-radius:10px\"><span style=\"color:#fdf6e3;font-weight:bold\">course</span><span style=\"color:#eee8d5;font-weight:lighter\">/C</span></div></div></div></div></div></div></div><div style=\"height:5px\"></div><div><div style=\"display:table;border:2px solid #fdf6e3;background-color:#6c71c4;border-radius:10px;padding:3px\"><div style=\"display:table-row\"><div style=\"display: table-cell; vertical-align: middle;background-color:#6c71c4;padding-left:5px\"><div style=\"padding:5px;background-color:#d33682;border:2px solid #fdf6e3;border-radius:10px\"><span style=\"color:#fdf6e3;font-weight:bold\">because</span><span style=\"color:#eee8d5;font-weight:lighter\">/T</span></div></div><div style=\"display: table-cell; vertical-align: middle;background-color:#6c71c4;padding:5px\"><div style=\"display:table-row\"><div style=\"display: table-cell;vertical-align: middle\"><div style=\"padding:5px;background-color:#268bd2;border:2px solid #fdf6e3;border-radius:10px\"><span style=\"color:#fdf6e3;font-weight:bold\">bees</span><span style=\"color:#eee8d5;font-weight:lighter\">/C</span></div></div></div></div></div></div></div></div></div></div></div></div><div style=\"height:5px\"></div><div><div style=\"display:table;border:2px solid #fdf6e3;background-color:#eee8d5;border-radius:10px;padding:3px\"><div style=\"display:table-row\"><div style=\"display: table-cell; vertical-align: top;background-color:#eee8d5;padding:5px\"><div style=\"display:table;border:2px solid #fdf6e3;background-color:#cb4b16;border-radius:10px;padding:3px\"><div style=\"display:table-row\"><div style=\"display: table-cell; vertical-align: middle;background-color:#cb4b16;padding-left:5px\"><div style=\"padding:5px;background-color:#dc322f;border:2px solid #fdf6e3;border-radius:10px\"><span style=\"color:#fdf6e3;font-weight:bold\">do</span><span style=\"color:#eee8d5;font-weight:lighter\">/M</span></div></div><div style=\"display: table-cell; vertical-align: middle;background-color:#cb4b16;padding:5px\"><div style=\"display:table-row\"><div style=\"display: table-cell;vertical-align: middle\"><div style=\"display:table;border:2px solid #fdf6e3;background-color:#cb4b16;border-radius:10px;padding:3px\"><div style=\"display:table-row\"><div style=\"display: table-cell; vertical-align: middle;background-color:#cb4b16;padding-left:5px\"><div style=\"padding:5px;background-color:#dc322f;border:2px solid #fdf6e3;border-radius:10px\"><span style=\"color:#fdf6e3;font-weight:bold\">n't</span><span style=\"color:#eee8d5;font-weight:lighter\">/M</span></div></div><div style=\"display: table-cell; vertical-align: middle;background-color:#cb4b16;padding:5px\"><div style=\"display:table-row\"><div style=\"display: table-cell;vertical-align: middle\"><div style=\"padding:5px;background-color:#cb4b16;border:2px solid #fdf6e3;border-radius:10px\"><span style=\"color:#fdf6e3;font-weight:bold\">care</span><span style=\"color:#eee8d5;font-weight:lighter\">/P.sr</span></div></div></div></div></div></div></div></div></div></div></div></div><div style=\"display: table-cell; vertical-align: top;background-color:#eee8d5;padding:5px\"><div style=\"display:table-row\"><div><div style=\"padding:5px;background-color:#268bd2;border:2px solid #fdf6e3;border-radius:10px\"><span style=\"color:#fdf6e3;font-weight:bold\">what</span><span style=\"color:#eee8d5;font-weight:lighter\">/C</span></div></div><div style=\"height:5px\"></div><div><div style=\"display:table;border:2px solid #fdf6e3;background-color:#eee8d5;border-radius:10px;padding:3px\"><div style=\"display:table-row\"><div style=\"display: table-cell; vertical-align: top;background-color:#eee8d5;padding:5px\"><div style=\"padding:5px;background-color:#cb4b16;border:2px solid #fdf6e3;border-radius:10px\"><span style=\"color:#fdf6e3;font-weight:bold\">think</span><span style=\"color:#eee8d5;font-weight:lighter\">/P.sr</span></div></div><div style=\"display: table-cell; vertical-align: top;background-color:#eee8d5;padding:5px\"><div style=\"display:table-row\"><div><div style=\"padding:5px;background-color:#268bd2;border:2px solid #fdf6e3;border-radius:10px\"><span style=\"color:#fdf6e3;font-weight:bold\">humans</span><span style=\"color:#eee8d5;font-weight:lighter\">/C</span></div></div><div style=\"height:5px\"></div><div><div style=\"display:table;border:2px solid #fdf6e3;background-color:#eee8d5;border-radius:10px;padding:3px\"><div style=\"display:table-row\"><div style=\"display: table-cell; vertical-align: middle;background-color:#eee8d5;padding-left:5px\"><div style=\"padding:5px;background-color:#cb4b16;border:2px solid #fdf6e3;border-radius:10px\"><span style=\"color:#fdf6e3;font-weight:bold\">is</span><span style=\"color:#eee8d5;font-weight:lighter\">/P.c</span></div></div><div style=\"display: table-cell; vertical-align: middle;background-color:#eee8d5;padding:5px\"><div style=\"display:table-row\"><div style=\"display: table-cell;vertical-align: middle\"><div style=\"padding:5px;background-color:#268bd2;border:2px solid #fdf6e3;border-radius:10px\"><span style=\"color:#fdf6e3;font-weight:bold\">impossible</span><span style=\"color:#eee8d5;font-weight:lighter\">/C</span></div></div></div></div></div></div></div></div></div></div></div></div></div></div></div></div></div></div></div></div></div></div>"
            ]
          },
          "metadata": {}
        },
        {
          "output_type": "display_data",
          "data": {
            "text/plain": [
              "<IPython.core.display.HTML object>"
            ],
            "text/html": [
              "<div style=\"background-color:#fcfcfc; padding:50px\"><div style=\"display:table;border:2px solid #fdf6e3;background-color:#268bd2;border-radius:10px;padding:3px\"><div style=\"display:table-row\"><div style=\"display: table-cell; vertical-align: middle;background-color:#268bd2;padding-left:5px\"><div style=\"padding:5px;background-color:#dc322f;border:2px solid #fdf6e3;border-radius:10px\"><span style=\"color:#fdf6e3;font-weight:bold\">yellow</span><span style=\"color:#eee8d5;font-weight:lighter\">/M</span></div></div><div style=\"display: table-cell; vertical-align: middle;background-color:#268bd2;padding:5px\"><div style=\"display:table-row\"><div style=\"display: table-cell;vertical-align: middle\"><div style=\"padding:5px;background-color:#268bd2;border:2px solid #fdf6e3;border-radius:10px\"><span style=\"color:#fdf6e3;font-weight:bold\">black</span><span style=\"color:#eee8d5;font-weight:lighter\">/C</span></div></div></div></div></div></div></div>"
            ]
          },
          "metadata": {}
        },
        {
          "output_type": "display_data",
          "data": {
            "text/plain": [
              "<IPython.core.display.HTML object>"
            ],
            "text/html": [
              "<div style=\"background-color:#fcfcfc; padding:50px\"><div style=\"display:table;border:2px solid #fdf6e3;background-color:#268bd2;border-radius:10px;padding:3px\"><div style=\"display:table-row\"><div style=\"display: table-cell; vertical-align: middle;background-color:#268bd2;padding-left:5px\"><div style=\"padding:5px;background-color:#dc322f;border:2px solid #fdf6e3;border-radius:10px\"><span style=\"color:#fdf6e3;font-weight:bold\">yellow</span><span style=\"color:#eee8d5;font-weight:lighter\">/M</span></div></div><div style=\"display: table-cell; vertical-align: middle;background-color:#268bd2;padding:5px\"><div style=\"display:table-row\"><div style=\"display: table-cell;vertical-align: middle\"><div style=\"padding:5px;background-color:#268bd2;border:2px solid #fdf6e3;border-radius:10px\"><span style=\"color:#fdf6e3;font-weight:bold\">black</span><span style=\"color:#eee8d5;font-weight:lighter\">/C</span></div></div></div></div></div></div></div>"
            ]
          },
          "metadata": {}
        },
        {
          "output_type": "display_data",
          "data": {
            "text/plain": [
              "<IPython.core.display.HTML object>"
            ],
            "text/html": [
              "<div style=\"background-color:#fcfcfc; padding:50px\"><div style=\"display:table;border:2px solid #fdf6e3;background-color:#268bd2;border-radius:10px;padding:3px\"><div style=\"display:table-row\"><div style=\"display: table-cell; vertical-align: middle;background-color:#268bd2;padding-left:5px\"><div style=\"padding:5px;background-color:#dc322f;border:2px solid #fdf6e3;border-radius:10px\"><span style=\"color:#fdf6e3;font-weight:bold\">yellow</span><span style=\"color:#eee8d5;font-weight:lighter\">/M</span></div></div><div style=\"display: table-cell; vertical-align: middle;background-color:#268bd2;padding:5px\"><div style=\"display:table-row\"><div style=\"display: table-cell;vertical-align: middle\"><div style=\"padding:5px;background-color:#268bd2;border:2px solid #fdf6e3;border-radius:10px\"><span style=\"color:#fdf6e3;font-weight:bold\">black</span><span style=\"color:#eee8d5;font-weight:lighter\">/C</span></div></div></div></div></div></div></div>"
            ]
          },
          "metadata": {}
        },
        {
          "output_type": "display_data",
          "data": {
            "text/plain": [
              "<IPython.core.display.HTML object>"
            ],
            "text/html": [
              "<div style=\"background-color:#fcfcfc; padding:50px\"><div style=\"display:table;border:2px solid #fdf6e3;background-color:#268bd2;border-radius:10px;padding:3px\"><div style=\"display:table-row\"><div style=\"display: table-cell; vertical-align: middle;background-color:#268bd2;padding-left:5px\"><div style=\"padding:5px;background-color:#dc322f;border:2px solid #fdf6e3;border-radius:10px\"><span style=\"color:#fdf6e3;font-weight:bold\">yellow</span><span style=\"color:#eee8d5;font-weight:lighter\">/M</span></div></div><div style=\"display: table-cell; vertical-align: middle;background-color:#268bd2;padding:5px\"><div style=\"display:table-row\"><div style=\"display: table-cell;vertical-align: middle\"><div style=\"padding:5px;background-color:#268bd2;border:2px solid #fdf6e3;border-radius:10px\"><span style=\"color:#fdf6e3;font-weight:bold\">black</span><span style=\"color:#eee8d5;font-weight:lighter\">/C</span></div></div></div></div></div></div></div>"
            ]
          },
          "metadata": {}
        },
        {
          "output_type": "display_data",
          "data": {
            "text/plain": [
              "<IPython.core.display.HTML object>"
            ],
            "text/html": [
              "<div style=\"background-color:#fcfcfc; padding:50px\"><div style=\"display:table;border:2px solid #fdf6e3;background-color:#eee8d5;border-radius:10px;padding:3px\"><div style=\"display:table-row\"><div style=\"display: table-cell; vertical-align: top;background-color:#eee8d5;padding:5px\"><div style=\"padding:5px;background-color:#b58900;border:2px solid #fdf6e3;border-radius:10px\"><span style=\"color:#fdf6e3;font-weight:bold\">and</span><span style=\"color:#eee8d5;font-weight:lighter\">/J</span></div></div><div style=\"display: table-cell; vertical-align: top;background-color:#eee8d5;padding:5px\"><div style=\"display:table-row\"><div><div style=\"display:table;border:2px solid #fdf6e3;background-color:#eee8d5;border-radius:10px;padding:3px\"><div style=\"display:table-row\"><div style=\"display: table-cell; vertical-align: middle;background-color:#eee8d5;padding-left:5px\"><div style=\"padding:5px;background-color:#cb4b16;border:2px solid #fdf6e3;border-radius:10px\"><span style=\"color:#fdf6e3;font-weight:bold\">black</span><span style=\"color:#eee8d5;font-weight:lighter\">/P.j</span></div></div><div style=\"display: table-cell; vertical-align: middle;background-color:#eee8d5;padding:5px\"><div style=\"display:table-row\"><div style=\"display: table-cell;vertical-align: middle\"><div style=\"padding:5px;background-color:#268bd2;border:2px solid #fdf6e3;border-radius:10px\"><span style=\"color:#fdf6e3;font-weight:bold\">ooh</span><span style=\"color:#eee8d5;font-weight:lighter\">/C</span></div></div></div></div></div></div></div><div style=\"height:5px\"></div><div><div style=\"padding:5px;background-color:#268bd2;border:2px solid #fdf6e3;border-radius:10px\"><span style=\"color:#fdf6e3;font-weight:bold\">yellow</span><span style=\"color:#eee8d5;font-weight:lighter\">/C</span></div></div></div></div></div></div></div>"
            ]
          },
          "metadata": {}
        },
        {
          "output_type": "display_data",
          "data": {
            "text/plain": [
              "<IPython.core.display.HTML object>"
            ],
            "text/html": [
              "<div style=\"background-color:#fcfcfc; padding:50px\"><div style=\"display:table;border:2px solid #fdf6e3;background-color:#eee8d5;border-radius:10px;padding:3px\"><div style=\"display:table-row\"><div style=\"display: table-cell; vertical-align: top;background-color:#eee8d5;padding:5px\"><div style=\"display:table;border:2px solid #fdf6e3;background-color:#cb4b16;border-radius:10px;padding:3px\"><div style=\"display:table-row\"><div style=\"display: table-cell; vertical-align: middle;background-color:#cb4b16;padding-left:5px\"><div style=\"padding:5px;background-color:#dc322f;border:2px solid #fdf6e3;border-radius:10px\"><span style=\"color:#fdf6e3;font-weight:bold\">up</span><span style=\"color:#eee8d5;font-weight:lighter\">/M</span></div></div><div style=\"display: table-cell; vertical-align: middle;background-color:#cb4b16;padding:5px\"><div style=\"display:table-row\"><div style=\"display: table-cell;vertical-align: middle\"><div style=\"display:table;border:2px solid #fdf6e3;background-color:#cb4b16;border-radius:10px;padding:3px\"><div style=\"display:table-row\"><div style=\"display: table-cell; vertical-align: middle;background-color:#cb4b16;padding-left:5px\"><div style=\"padding:5px;background-color:#dc322f;border:2px solid #fdf6e3;border-radius:10px\"><span style=\"color:#fdf6e3;font-weight:bold\">let</span><span style=\"color:#eee8d5;font-weight:lighter\">/M</span></div></div><div style=\"display: table-cell; vertical-align: middle;background-color:#cb4b16;padding:5px\"><div style=\"display:table-row\"><div style=\"display: table-cell;vertical-align: middle\"><div style=\"padding:5px;background-color:#cb4b16;border:2px solid #fdf6e3;border-radius:10px\"><span style=\"color:#fdf6e3;font-weight:bold\">shake</span><span style=\"color:#eee8d5;font-weight:lighter\">/P.sox</span></div></div></div></div></div></div></div></div></div></div></div></div><div style=\"display: table-cell; vertical-align: top;background-color:#eee8d5;padding:5px\"><div style=\"display:table-row\"><div><div style=\"padding:5px;background-color:#268bd2;border:2px solid #fdf6e3;border-radius:10px\"><span style=\"color:#fdf6e3;font-weight:bold\">'s</span><span style=\"color:#eee8d5;font-weight:lighter\">/C</span></div></div><div style=\"height:5px\"></div><div><div style=\"padding:5px;background-color:#268bd2;border:2px solid #fdf6e3;border-radius:10px\"><span style=\"color:#fdf6e3;font-weight:bold\">it</span><span style=\"color:#eee8d5;font-weight:lighter\">/C</span></div></div><div style=\"height:5px\"></div><div><div style=\"display:table;border:2px solid #fdf6e3;background-color:#268bd2;border-radius:10px;padding:3px\"><div style=\"display:table-row\"><div style=\"display: table-cell; vertical-align: middle;background-color:#268bd2;padding-left:5px\"><div style=\"padding:5px;background-color:#dc322f;border:2px solid #fdf6e3;border-radius:10px\"><span style=\"color:#fdf6e3;font-weight:bold\">a</span><span style=\"color:#eee8d5;font-weight:lighter\">/M</span></div></div><div style=\"display: table-cell; vertical-align: middle;background-color:#268bd2;padding:5px\"><div style=\"display:table-row\"><div style=\"display: table-cell;vertical-align: middle\"><div style=\"padding:5px;background-color:#268bd2;border:2px solid #fdf6e3;border-radius:10px\"><span style=\"color:#fdf6e3;font-weight:bold\">little</span><span style=\"color:#eee8d5;font-weight:lighter\">/C</span></div></div></div></div></div></div></div></div></div></div></div></div>"
            ]
          },
          "metadata": {}
        },
        {
          "output_type": "display_data",
          "data": {
            "text/plain": [
              "<IPython.core.display.HTML object>"
            ],
            "text/html": [
              "<div style=\"background-color:#fcfcfc; padding:50px\"><div style=\"display:table;border:2px solid #fdf6e3;background-color:#268bd2;border-radius:10px;padding:3px\"><div style=\"display:table-row\"><div style=\"display: table-cell; vertical-align: middle;background-color:#268bd2;padding-left:5px\"><div style=\"padding:5px;background-color:#dc322f;border:2px solid #fdf6e3;border-radius:10px\"><span style=\"color:#fdf6e3;font-weight:bold\">:</span><span style=\"color:#eee8d5;font-weight:lighter\">/M</span></div></div><div style=\"display: table-cell; vertical-align: middle;background-color:#268bd2;padding:5px\"><div style=\"display:table-row\"><div style=\"display: table-cell;vertical-align: middle\"><div style=\"padding:5px;background-color:#268bd2;border:2px solid #fdf6e3;border-radius:10px\"><span style=\"color:#fdf6e3;font-weight:bold\">barry</span><span style=\"color:#eee8d5;font-weight:lighter\">/C</span></div></div></div></div></div></div></div>"
            ]
          },
          "metadata": {}
        }
      ]
    },
    {
      "cell_type": "code",
      "source": [],
      "metadata": {
        "id": "WQ1GNTEH1I-_"
      },
      "execution_count": null,
      "outputs": []
    }
  ],
  "metadata": {
    "kernelspec": {
      "display_name": "graphbrain-semsim",
      "language": "python",
      "name": "graphbrain-semsim"
    },
    "language_info": {
      "codemirror_mode": {
        "name": "ipython",
        "version": 3
      },
      "file_extension": ".py",
      "mimetype": "text/x-python",
      "name": "python",
      "nbconvert_exporter": "python",
      "pygments_lexer": "ipython3",
      "version": "3.9.15"
    },
    "colab": {
      "provenance": [],
      "collapsed_sections": [
        "1SqyOawsxERh"
      ],
      "include_colab_link": true
    }
  },
  "nbformat": 4,
  "nbformat_minor": 0
}